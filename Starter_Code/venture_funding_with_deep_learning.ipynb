{
 "cells": [
  {
   "cell_type": "markdown",
   "metadata": {},
   "source": [
    "# Venture Funding with Deep Learning\n",
    "\n",
    "You work as a risk management associate at Alphabet Soup, a venture capital firm. Alphabet Soup’s business team receives many funding applications from startups every day. This team has asked you to help them create a model that predicts whether applicants will be successful if funded by Alphabet Soup.\n",
    "\n",
    "The business team has given you a CSV containing more than 34,000 organizations that have received funding from Alphabet Soup over the years. With your knowledge of machine learning and neural networks, you decide to use the features in the provided dataset to create a binary classifier model that will predict whether an applicant will become a successful business. The CSV file contains a variety of information about these businesses, including whether or not they ultimately became successful.\n",
    "\n",
    "## Instructions:\n",
    "\n",
    "The steps for this challenge are broken out into the following sections:\n",
    "\n",
    "* Prepare the data for use on a neural network model.\n",
    "\n",
    "* Compile and evaluate a binary classification model using a neural network.\n",
    "\n",
    "* Optimize the neural network model.\n",
    "\n",
    "### Prepare the Data for Use on a Neural Network Model \n",
    "\n",
    "Using your knowledge of Pandas and scikit-learn’s `StandardScaler()`, preprocess the dataset so that you can use it to compile and evaluate the neural network model later.\n",
    "\n",
    "Open the starter code file, and complete the following data preparation steps:\n",
    "\n",
    "1. Read the `applicants_data.csv` file into a Pandas DataFrame. Review the DataFrame, looking for categorical variables that will need to be encoded, as well as columns that could eventually define your features and target variables.   \n",
    "\n",
    "2. Drop the “EIN” (Employer Identification Number) and “NAME” columns from the DataFrame, because they are not relevant to the binary classification model.\n",
    " \n",
    "3. Encode the dataset’s categorical variables using `OneHotEncoder`, and then place the encoded variables into a new DataFrame.\n",
    "\n",
    "4. Add the original DataFrame’s numerical variables to the DataFrame containing the encoded variables.\n",
    "\n",
    "> **Note** To complete this step, you will employ the Pandas `concat()` function that was introduced earlier in this course. \n",
    "\n",
    "5. Using the preprocessed data, create the features (`X`) and target (`y`) datasets. The target dataset should be defined by the preprocessed DataFrame column “IS_SUCCESSFUL”. The remaining columns should define the features dataset. \n",
    "\n",
    "6. Split the features and target sets into training and testing datasets.\n",
    "\n",
    "7. Use scikit-learn's `StandardScaler` to scale the features data.\n",
    "\n",
    "### Compile and Evaluate a Binary Classification Model Using a Neural Network\n",
    "\n",
    "Use your knowledge of TensorFlow to design a binary classification deep neural network model. This model should use the dataset’s features to predict whether an Alphabet Soup&ndash;funded startup will be successful based on the features in the dataset. Consider the number of inputs before determining the number of layers that your model will contain or the number of neurons on each layer. Then, compile and fit your model. Finally, evaluate your binary classification model to calculate the model’s loss and accuracy. \n",
    " \n",
    "To do so, complete the following steps:\n",
    "\n",
    "1. Create a deep neural network by assigning the number of input features, the number of layers, and the number of neurons on each layer using Tensorflow’s Keras.\n",
    "\n",
    "> **Hint** You can start with a two-layer deep neural network model that uses the `relu` activation function for both layers.\n",
    "\n",
    "2. Compile and fit the model using the `binary_crossentropy` loss function, the `adam` optimizer, and the `accuracy` evaluation metric.\n",
    "\n",
    "> **Hint** When fitting the model, start with a small number of epochs, such as 20, 50, or 100.\n",
    "\n",
    "3. Evaluate the model using the test data to determine the model’s loss and accuracy.\n",
    "\n",
    "4. Save and export your model to an HDF5 file, and name the file `AlphabetSoup.h5`. \n",
    "\n",
    "### Optimize the Neural Network Model\n",
    "\n",
    "Using your knowledge of TensorFlow and Keras, optimize your model to improve the model's accuracy. Even if you do not successfully achieve a better accuracy, you'll need to demonstrate at least two attempts to optimize the model. You can include these attempts in your existing notebook. Or, you can make copies of the starter notebook in the same folder, rename them, and code each model optimization in a new notebook. \n",
    "\n",
    "> **Note** You will not lose points if your model does not achieve a high accuracy, as long as you make at least two attempts to optimize the model.\n",
    "\n",
    "To do so, complete the following steps:\n",
    "\n",
    "1. Define at least three new deep neural network models (the original plus 2 optimization attempts). With each, try to improve on your first model’s predictive accuracy.\n",
    "\n",
    "> **Rewind** Recall that perfect accuracy has a value of 1, so accuracy improves as its value moves closer to 1. To optimize your model for a predictive accuracy as close to 1 as possible, you can use any or all of the following techniques:\n",
    ">\n",
    "> * Adjust the input data by dropping different features columns to ensure that no variables or outliers confuse the model.\n",
    ">\n",
    "> * Add more neurons (nodes) to a hidden layer.\n",
    ">\n",
    "> * Add more hidden layers.\n",
    ">\n",
    "> * Use different activation functions for the hidden layers.\n",
    ">\n",
    "> * Add to or reduce the number of epochs in the training regimen.\n",
    "\n",
    "2. After finishing your models, display the accuracy scores achieved by each model, and compare the results.\n",
    "\n",
    "3. Save each of your models as an HDF5 file.\n"
   ]
  },
  {
   "cell_type": "code",
   "execution_count": 1,
   "metadata": {},
   "outputs": [],
   "source": [
    "# Imports\n",
    "import pandas as pd\n",
    "from pathlib import Path\n",
    "import tensorflow as tf\n",
    "from tensorflow.keras.layers import Dense\n",
    "from tensorflow.keras.models import Sequential\n",
    "from sklearn.model_selection import train_test_split\n",
    "from sklearn.preprocessing import StandardScaler,OneHotEncoder\n",
    "%matplotlib inline"
   ]
  },
  {
   "cell_type": "markdown",
   "metadata": {},
   "source": [
    "---\n",
    "\n",
    "## Prepare the data to be used on a neural network model"
   ]
  },
  {
   "cell_type": "markdown",
   "metadata": {},
   "source": [
    "### Step 1: Read the `applicants_data.csv` file into a Pandas DataFrame. Review the DataFrame, looking for categorical variables that will need to be encoded, as well as columns that could eventually define your features and target variables.  \n"
   ]
  },
  {
   "cell_type": "code",
   "execution_count": 2,
   "metadata": {},
   "outputs": [
    {
     "data": {
      "text/html": [
       "<div>\n",
       "<style scoped>\n",
       "    .dataframe tbody tr th:only-of-type {\n",
       "        vertical-align: middle;\n",
       "    }\n",
       "\n",
       "    .dataframe tbody tr th {\n",
       "        vertical-align: top;\n",
       "    }\n",
       "\n",
       "    .dataframe thead th {\n",
       "        text-align: right;\n",
       "    }\n",
       "</style>\n",
       "<table border=\"1\" class=\"dataframe\">\n",
       "  <thead>\n",
       "    <tr style=\"text-align: right;\">\n",
       "      <th></th>\n",
       "      <th>EIN</th>\n",
       "      <th>NAME</th>\n",
       "      <th>APPLICATION_TYPE</th>\n",
       "      <th>AFFILIATION</th>\n",
       "      <th>CLASSIFICATION</th>\n",
       "      <th>USE_CASE</th>\n",
       "      <th>ORGANIZATION</th>\n",
       "      <th>STATUS</th>\n",
       "      <th>INCOME_AMT</th>\n",
       "      <th>SPECIAL_CONSIDERATIONS</th>\n",
       "      <th>ASK_AMT</th>\n",
       "      <th>IS_SUCCESSFUL</th>\n",
       "    </tr>\n",
       "  </thead>\n",
       "  <tbody>\n",
       "    <tr>\n",
       "      <th>0</th>\n",
       "      <td>10520599</td>\n",
       "      <td>BLUE KNIGHTS MOTORCYCLE CLUB</td>\n",
       "      <td>T10</td>\n",
       "      <td>Independent</td>\n",
       "      <td>C1000</td>\n",
       "      <td>ProductDev</td>\n",
       "      <td>Association</td>\n",
       "      <td>1</td>\n",
       "      <td>0</td>\n",
       "      <td>N</td>\n",
       "      <td>5000</td>\n",
       "      <td>1</td>\n",
       "    </tr>\n",
       "    <tr>\n",
       "      <th>1</th>\n",
       "      <td>10531628</td>\n",
       "      <td>AMERICAN CHESAPEAKE CLUB CHARITABLE TR</td>\n",
       "      <td>T3</td>\n",
       "      <td>Independent</td>\n",
       "      <td>C2000</td>\n",
       "      <td>Preservation</td>\n",
       "      <td>Co-operative</td>\n",
       "      <td>1</td>\n",
       "      <td>1-9999</td>\n",
       "      <td>N</td>\n",
       "      <td>108590</td>\n",
       "      <td>1</td>\n",
       "    </tr>\n",
       "    <tr>\n",
       "      <th>2</th>\n",
       "      <td>10547893</td>\n",
       "      <td>ST CLOUD PROFESSIONAL FIREFIGHTERS</td>\n",
       "      <td>T5</td>\n",
       "      <td>CompanySponsored</td>\n",
       "      <td>C3000</td>\n",
       "      <td>ProductDev</td>\n",
       "      <td>Association</td>\n",
       "      <td>1</td>\n",
       "      <td>0</td>\n",
       "      <td>N</td>\n",
       "      <td>5000</td>\n",
       "      <td>0</td>\n",
       "    </tr>\n",
       "    <tr>\n",
       "      <th>3</th>\n",
       "      <td>10553066</td>\n",
       "      <td>SOUTHSIDE ATHLETIC ASSOCIATION</td>\n",
       "      <td>T3</td>\n",
       "      <td>CompanySponsored</td>\n",
       "      <td>C2000</td>\n",
       "      <td>Preservation</td>\n",
       "      <td>Trust</td>\n",
       "      <td>1</td>\n",
       "      <td>10000-24999</td>\n",
       "      <td>N</td>\n",
       "      <td>6692</td>\n",
       "      <td>1</td>\n",
       "    </tr>\n",
       "    <tr>\n",
       "      <th>4</th>\n",
       "      <td>10556103</td>\n",
       "      <td>GENETIC RESEARCH INSTITUTE OF THE DESERT</td>\n",
       "      <td>T3</td>\n",
       "      <td>Independent</td>\n",
       "      <td>C1000</td>\n",
       "      <td>Heathcare</td>\n",
       "      <td>Trust</td>\n",
       "      <td>1</td>\n",
       "      <td>100000-499999</td>\n",
       "      <td>N</td>\n",
       "      <td>142590</td>\n",
       "      <td>1</td>\n",
       "    </tr>\n",
       "  </tbody>\n",
       "</table>\n",
       "</div>"
      ],
      "text/plain": [
       "        EIN                                      NAME APPLICATION_TYPE  \\\n",
       "0  10520599              BLUE KNIGHTS MOTORCYCLE CLUB              T10   \n",
       "1  10531628    AMERICAN CHESAPEAKE CLUB CHARITABLE TR               T3   \n",
       "2  10547893        ST CLOUD PROFESSIONAL FIREFIGHTERS               T5   \n",
       "3  10553066            SOUTHSIDE ATHLETIC ASSOCIATION               T3   \n",
       "4  10556103  GENETIC RESEARCH INSTITUTE OF THE DESERT               T3   \n",
       "\n",
       "        AFFILIATION CLASSIFICATION      USE_CASE  ORGANIZATION  STATUS  \\\n",
       "0       Independent          C1000    ProductDev   Association       1   \n",
       "1       Independent          C2000  Preservation  Co-operative       1   \n",
       "2  CompanySponsored          C3000    ProductDev   Association       1   \n",
       "3  CompanySponsored          C2000  Preservation         Trust       1   \n",
       "4       Independent          C1000     Heathcare         Trust       1   \n",
       "\n",
       "      INCOME_AMT SPECIAL_CONSIDERATIONS  ASK_AMT  IS_SUCCESSFUL  \n",
       "0              0                      N     5000              1  \n",
       "1         1-9999                      N   108590              1  \n",
       "2              0                      N     5000              0  \n",
       "3    10000-24999                      N     6692              1  \n",
       "4  100000-499999                      N   142590              1  "
      ]
     },
     "execution_count": 2,
     "metadata": {},
     "output_type": "execute_result"
    }
   ],
   "source": [
    "# Read the applicants_data.csv file from the Resources folder into a Pandas DataFrame\n",
    "applicant_data_df = pd.read_csv(Path(\"../Starter_Code/Resources/applicants_data.csv\"))\n",
    "\n",
    "# Review the DataFrame\n",
    "# YOUR CODE HERE\n",
    "applicant_data_df.head()"
   ]
  },
  {
   "cell_type": "code",
   "execution_count": 3,
   "metadata": {},
   "outputs": [
    {
     "data": {
      "text/plain": [
       "EIN                        int64\n",
       "NAME                      object\n",
       "APPLICATION_TYPE          object\n",
       "AFFILIATION               object\n",
       "CLASSIFICATION            object\n",
       "USE_CASE                  object\n",
       "ORGANIZATION              object\n",
       "STATUS                     int64\n",
       "INCOME_AMT                object\n",
       "SPECIAL_CONSIDERATIONS    object\n",
       "ASK_AMT                    int64\n",
       "IS_SUCCESSFUL              int64\n",
       "dtype: object"
      ]
     },
     "execution_count": 3,
     "metadata": {},
     "output_type": "execute_result"
    }
   ],
   "source": [
    "# Review the data types associated with the columns\n",
    "# YOUR CODE HERE\n",
    "applicant_data_df.dtypes"
   ]
  },
  {
   "cell_type": "markdown",
   "metadata": {},
   "source": [
    "### Step 2: Drop the “EIN” (Employer Identification Number) and “NAME” columns from the DataFrame, because they are not relevant to the binary classification model."
   ]
  },
  {
   "cell_type": "code",
   "execution_count": 4,
   "metadata": {},
   "outputs": [
    {
     "data": {
      "text/html": [
       "<div>\n",
       "<style scoped>\n",
       "    .dataframe tbody tr th:only-of-type {\n",
       "        vertical-align: middle;\n",
       "    }\n",
       "\n",
       "    .dataframe tbody tr th {\n",
       "        vertical-align: top;\n",
       "    }\n",
       "\n",
       "    .dataframe thead th {\n",
       "        text-align: right;\n",
       "    }\n",
       "</style>\n",
       "<table border=\"1\" class=\"dataframe\">\n",
       "  <thead>\n",
       "    <tr style=\"text-align: right;\">\n",
       "      <th></th>\n",
       "      <th>APPLICATION_TYPE</th>\n",
       "      <th>AFFILIATION</th>\n",
       "      <th>CLASSIFICATION</th>\n",
       "      <th>USE_CASE</th>\n",
       "      <th>ORGANIZATION</th>\n",
       "      <th>STATUS</th>\n",
       "      <th>INCOME_AMT</th>\n",
       "      <th>SPECIAL_CONSIDERATIONS</th>\n",
       "      <th>ASK_AMT</th>\n",
       "      <th>IS_SUCCESSFUL</th>\n",
       "    </tr>\n",
       "  </thead>\n",
       "  <tbody>\n",
       "    <tr>\n",
       "      <th>0</th>\n",
       "      <td>T10</td>\n",
       "      <td>Independent</td>\n",
       "      <td>C1000</td>\n",
       "      <td>ProductDev</td>\n",
       "      <td>Association</td>\n",
       "      <td>1</td>\n",
       "      <td>0</td>\n",
       "      <td>N</td>\n",
       "      <td>5000</td>\n",
       "      <td>1</td>\n",
       "    </tr>\n",
       "    <tr>\n",
       "      <th>1</th>\n",
       "      <td>T3</td>\n",
       "      <td>Independent</td>\n",
       "      <td>C2000</td>\n",
       "      <td>Preservation</td>\n",
       "      <td>Co-operative</td>\n",
       "      <td>1</td>\n",
       "      <td>1-9999</td>\n",
       "      <td>N</td>\n",
       "      <td>108590</td>\n",
       "      <td>1</td>\n",
       "    </tr>\n",
       "    <tr>\n",
       "      <th>2</th>\n",
       "      <td>T5</td>\n",
       "      <td>CompanySponsored</td>\n",
       "      <td>C3000</td>\n",
       "      <td>ProductDev</td>\n",
       "      <td>Association</td>\n",
       "      <td>1</td>\n",
       "      <td>0</td>\n",
       "      <td>N</td>\n",
       "      <td>5000</td>\n",
       "      <td>0</td>\n",
       "    </tr>\n",
       "    <tr>\n",
       "      <th>3</th>\n",
       "      <td>T3</td>\n",
       "      <td>CompanySponsored</td>\n",
       "      <td>C2000</td>\n",
       "      <td>Preservation</td>\n",
       "      <td>Trust</td>\n",
       "      <td>1</td>\n",
       "      <td>10000-24999</td>\n",
       "      <td>N</td>\n",
       "      <td>6692</td>\n",
       "      <td>1</td>\n",
       "    </tr>\n",
       "    <tr>\n",
       "      <th>4</th>\n",
       "      <td>T3</td>\n",
       "      <td>Independent</td>\n",
       "      <td>C1000</td>\n",
       "      <td>Heathcare</td>\n",
       "      <td>Trust</td>\n",
       "      <td>1</td>\n",
       "      <td>100000-499999</td>\n",
       "      <td>N</td>\n",
       "      <td>142590</td>\n",
       "      <td>1</td>\n",
       "    </tr>\n",
       "  </tbody>\n",
       "</table>\n",
       "</div>"
      ],
      "text/plain": [
       "  APPLICATION_TYPE       AFFILIATION CLASSIFICATION      USE_CASE  \\\n",
       "0              T10       Independent          C1000    ProductDev   \n",
       "1               T3       Independent          C2000  Preservation   \n",
       "2               T5  CompanySponsored          C3000    ProductDev   \n",
       "3               T3  CompanySponsored          C2000  Preservation   \n",
       "4               T3       Independent          C1000     Heathcare   \n",
       "\n",
       "   ORGANIZATION  STATUS     INCOME_AMT SPECIAL_CONSIDERATIONS  ASK_AMT  \\\n",
       "0   Association       1              0                      N     5000   \n",
       "1  Co-operative       1         1-9999                      N   108590   \n",
       "2   Association       1              0                      N     5000   \n",
       "3         Trust       1    10000-24999                      N     6692   \n",
       "4         Trust       1  100000-499999                      N   142590   \n",
       "\n",
       "   IS_SUCCESSFUL  \n",
       "0              1  \n",
       "1              1  \n",
       "2              0  \n",
       "3              1  \n",
       "4              1  "
      ]
     },
     "execution_count": 4,
     "metadata": {},
     "output_type": "execute_result"
    }
   ],
   "source": [
    "# Drop the 'EIN' and 'NAME' columns from the DataFrame\n",
    "applicant_data_df = applicant_data_df.drop(columns=[\"EIN\", \"NAME\"])\n",
    "\n",
    "# Review the DataFrame\n",
    "# YOUR CODE HERE\n",
    "applicant_data_df.head()"
   ]
  },
  {
   "cell_type": "markdown",
   "metadata": {},
   "source": [
    "### Step 3: Encode the dataset’s categorical variables using `OneHotEncoder`, and then place the encoded variables into a new DataFrame."
   ]
  },
  {
   "cell_type": "code",
   "execution_count": 5,
   "metadata": {},
   "outputs": [
    {
     "data": {
      "text/plain": [
       "['APPLICATION_TYPE',\n",
       " 'AFFILIATION',\n",
       " 'CLASSIFICATION',\n",
       " 'USE_CASE',\n",
       " 'ORGANIZATION',\n",
       " 'INCOME_AMT',\n",
       " 'SPECIAL_CONSIDERATIONS']"
      ]
     },
     "execution_count": 5,
     "metadata": {},
     "output_type": "execute_result"
    }
   ],
   "source": [
    "# Create a list of categorical variables \n",
    "categorical_variables = list(applicant_data_df.dtypes[applicant_data_df.dtypes== \"object\"].index)\n",
    "\n",
    "# Display the categorical variables list\n",
    "# YOUR CODE HERE\n",
    "categorical_variables"
   ]
  },
  {
   "cell_type": "code",
   "execution_count": 6,
   "metadata": {},
   "outputs": [],
   "source": [
    "# Create a OneHotEncoder instance\n",
    "enc = OneHotEncoder(sparse=False)\n"
   ]
  },
  {
   "cell_type": "code",
   "execution_count": 7,
   "metadata": {},
   "outputs": [],
   "source": [
    "# Encode the categorcal variables using OneHotEncoder\n",
    "encoded_data = enc.fit_transform(applicant_data_df[categorical_variables])"
   ]
  },
  {
   "cell_type": "code",
   "execution_count": 8,
   "metadata": {},
   "outputs": [
    {
     "data": {
      "text/html": [
       "<div>\n",
       "<style scoped>\n",
       "    .dataframe tbody tr th:only-of-type {\n",
       "        vertical-align: middle;\n",
       "    }\n",
       "\n",
       "    .dataframe tbody tr th {\n",
       "        vertical-align: top;\n",
       "    }\n",
       "\n",
       "    .dataframe thead th {\n",
       "        text-align: right;\n",
       "    }\n",
       "</style>\n",
       "<table border=\"1\" class=\"dataframe\">\n",
       "  <thead>\n",
       "    <tr style=\"text-align: right;\">\n",
       "      <th></th>\n",
       "      <th>APPLICATION_TYPE_T10</th>\n",
       "      <th>APPLICATION_TYPE_T12</th>\n",
       "      <th>APPLICATION_TYPE_T13</th>\n",
       "      <th>APPLICATION_TYPE_T14</th>\n",
       "      <th>APPLICATION_TYPE_T15</th>\n",
       "      <th>APPLICATION_TYPE_T17</th>\n",
       "      <th>APPLICATION_TYPE_T19</th>\n",
       "      <th>APPLICATION_TYPE_T2</th>\n",
       "      <th>APPLICATION_TYPE_T25</th>\n",
       "      <th>APPLICATION_TYPE_T29</th>\n",
       "      <th>...</th>\n",
       "      <th>INCOME_AMT_1-9999</th>\n",
       "      <th>INCOME_AMT_10000-24999</th>\n",
       "      <th>INCOME_AMT_100000-499999</th>\n",
       "      <th>INCOME_AMT_10M-50M</th>\n",
       "      <th>INCOME_AMT_1M-5M</th>\n",
       "      <th>INCOME_AMT_25000-99999</th>\n",
       "      <th>INCOME_AMT_50M+</th>\n",
       "      <th>INCOME_AMT_5M-10M</th>\n",
       "      <th>SPECIAL_CONSIDERATIONS_N</th>\n",
       "      <th>SPECIAL_CONSIDERATIONS_Y</th>\n",
       "    </tr>\n",
       "  </thead>\n",
       "  <tbody>\n",
       "    <tr>\n",
       "      <th>0</th>\n",
       "      <td>1.0</td>\n",
       "      <td>0.0</td>\n",
       "      <td>0.0</td>\n",
       "      <td>0.0</td>\n",
       "      <td>0.0</td>\n",
       "      <td>0.0</td>\n",
       "      <td>0.0</td>\n",
       "      <td>0.0</td>\n",
       "      <td>0.0</td>\n",
       "      <td>0.0</td>\n",
       "      <td>...</td>\n",
       "      <td>0.0</td>\n",
       "      <td>0.0</td>\n",
       "      <td>0.0</td>\n",
       "      <td>0.0</td>\n",
       "      <td>0.0</td>\n",
       "      <td>0.0</td>\n",
       "      <td>0.0</td>\n",
       "      <td>0.0</td>\n",
       "      <td>1.0</td>\n",
       "      <td>0.0</td>\n",
       "    </tr>\n",
       "    <tr>\n",
       "      <th>1</th>\n",
       "      <td>0.0</td>\n",
       "      <td>0.0</td>\n",
       "      <td>0.0</td>\n",
       "      <td>0.0</td>\n",
       "      <td>0.0</td>\n",
       "      <td>0.0</td>\n",
       "      <td>0.0</td>\n",
       "      <td>0.0</td>\n",
       "      <td>0.0</td>\n",
       "      <td>0.0</td>\n",
       "      <td>...</td>\n",
       "      <td>1.0</td>\n",
       "      <td>0.0</td>\n",
       "      <td>0.0</td>\n",
       "      <td>0.0</td>\n",
       "      <td>0.0</td>\n",
       "      <td>0.0</td>\n",
       "      <td>0.0</td>\n",
       "      <td>0.0</td>\n",
       "      <td>1.0</td>\n",
       "      <td>0.0</td>\n",
       "    </tr>\n",
       "    <tr>\n",
       "      <th>2</th>\n",
       "      <td>0.0</td>\n",
       "      <td>0.0</td>\n",
       "      <td>0.0</td>\n",
       "      <td>0.0</td>\n",
       "      <td>0.0</td>\n",
       "      <td>0.0</td>\n",
       "      <td>0.0</td>\n",
       "      <td>0.0</td>\n",
       "      <td>0.0</td>\n",
       "      <td>0.0</td>\n",
       "      <td>...</td>\n",
       "      <td>0.0</td>\n",
       "      <td>0.0</td>\n",
       "      <td>0.0</td>\n",
       "      <td>0.0</td>\n",
       "      <td>0.0</td>\n",
       "      <td>0.0</td>\n",
       "      <td>0.0</td>\n",
       "      <td>0.0</td>\n",
       "      <td>1.0</td>\n",
       "      <td>0.0</td>\n",
       "    </tr>\n",
       "    <tr>\n",
       "      <th>3</th>\n",
       "      <td>0.0</td>\n",
       "      <td>0.0</td>\n",
       "      <td>0.0</td>\n",
       "      <td>0.0</td>\n",
       "      <td>0.0</td>\n",
       "      <td>0.0</td>\n",
       "      <td>0.0</td>\n",
       "      <td>0.0</td>\n",
       "      <td>0.0</td>\n",
       "      <td>0.0</td>\n",
       "      <td>...</td>\n",
       "      <td>0.0</td>\n",
       "      <td>1.0</td>\n",
       "      <td>0.0</td>\n",
       "      <td>0.0</td>\n",
       "      <td>0.0</td>\n",
       "      <td>0.0</td>\n",
       "      <td>0.0</td>\n",
       "      <td>0.0</td>\n",
       "      <td>1.0</td>\n",
       "      <td>0.0</td>\n",
       "    </tr>\n",
       "    <tr>\n",
       "      <th>4</th>\n",
       "      <td>0.0</td>\n",
       "      <td>0.0</td>\n",
       "      <td>0.0</td>\n",
       "      <td>0.0</td>\n",
       "      <td>0.0</td>\n",
       "      <td>0.0</td>\n",
       "      <td>0.0</td>\n",
       "      <td>0.0</td>\n",
       "      <td>0.0</td>\n",
       "      <td>0.0</td>\n",
       "      <td>...</td>\n",
       "      <td>0.0</td>\n",
       "      <td>0.0</td>\n",
       "      <td>1.0</td>\n",
       "      <td>0.0</td>\n",
       "      <td>0.0</td>\n",
       "      <td>0.0</td>\n",
       "      <td>0.0</td>\n",
       "      <td>0.0</td>\n",
       "      <td>1.0</td>\n",
       "      <td>0.0</td>\n",
       "    </tr>\n",
       "  </tbody>\n",
       "</table>\n",
       "<p>5 rows × 114 columns</p>\n",
       "</div>"
      ],
      "text/plain": [
       "   APPLICATION_TYPE_T10  APPLICATION_TYPE_T12  APPLICATION_TYPE_T13  \\\n",
       "0                   1.0                   0.0                   0.0   \n",
       "1                   0.0                   0.0                   0.0   \n",
       "2                   0.0                   0.0                   0.0   \n",
       "3                   0.0                   0.0                   0.0   \n",
       "4                   0.0                   0.0                   0.0   \n",
       "\n",
       "   APPLICATION_TYPE_T14  APPLICATION_TYPE_T15  APPLICATION_TYPE_T17  \\\n",
       "0                   0.0                   0.0                   0.0   \n",
       "1                   0.0                   0.0                   0.0   \n",
       "2                   0.0                   0.0                   0.0   \n",
       "3                   0.0                   0.0                   0.0   \n",
       "4                   0.0                   0.0                   0.0   \n",
       "\n",
       "   APPLICATION_TYPE_T19  APPLICATION_TYPE_T2  APPLICATION_TYPE_T25  \\\n",
       "0                   0.0                  0.0                   0.0   \n",
       "1                   0.0                  0.0                   0.0   \n",
       "2                   0.0                  0.0                   0.0   \n",
       "3                   0.0                  0.0                   0.0   \n",
       "4                   0.0                  0.0                   0.0   \n",
       "\n",
       "   APPLICATION_TYPE_T29  ...  INCOME_AMT_1-9999  INCOME_AMT_10000-24999  \\\n",
       "0                   0.0  ...                0.0                     0.0   \n",
       "1                   0.0  ...                1.0                     0.0   \n",
       "2                   0.0  ...                0.0                     0.0   \n",
       "3                   0.0  ...                0.0                     1.0   \n",
       "4                   0.0  ...                0.0                     0.0   \n",
       "\n",
       "   INCOME_AMT_100000-499999  INCOME_AMT_10M-50M  INCOME_AMT_1M-5M  \\\n",
       "0                       0.0                 0.0               0.0   \n",
       "1                       0.0                 0.0               0.0   \n",
       "2                       0.0                 0.0               0.0   \n",
       "3                       0.0                 0.0               0.0   \n",
       "4                       1.0                 0.0               0.0   \n",
       "\n",
       "   INCOME_AMT_25000-99999  INCOME_AMT_50M+  INCOME_AMT_5M-10M  \\\n",
       "0                     0.0              0.0                0.0   \n",
       "1                     0.0              0.0                0.0   \n",
       "2                     0.0              0.0                0.0   \n",
       "3                     0.0              0.0                0.0   \n",
       "4                     0.0              0.0                0.0   \n",
       "\n",
       "   SPECIAL_CONSIDERATIONS_N  SPECIAL_CONSIDERATIONS_Y  \n",
       "0                       1.0                       0.0  \n",
       "1                       1.0                       0.0  \n",
       "2                       1.0                       0.0  \n",
       "3                       1.0                       0.0  \n",
       "4                       1.0                       0.0  \n",
       "\n",
       "[5 rows x 114 columns]"
      ]
     },
     "execution_count": 8,
     "metadata": {},
     "output_type": "execute_result"
    }
   ],
   "source": [
    "# Create a DataFrame with the encoded variables\n",
    "encoded_df = pd.DataFrame(encoded_data, columns= enc.get_feature_names(categorical_variables))\n",
    "\n",
    "# Review the DataFrame\n",
    "# YOUR CODE HERE\n",
    "encoded_df.head()"
   ]
  },
  {
   "cell_type": "markdown",
   "metadata": {},
   "source": [
    "### Step 4: Add the original DataFrame’s numerical variables to the DataFrame containing the encoded variables.\n",
    "\n",
    "> **Note** To complete this step, you will employ the Pandas `concat()` function that was introduced earlier in this course. "
   ]
  },
  {
   "cell_type": "code",
   "execution_count": 9,
   "metadata": {},
   "outputs": [
    {
     "data": {
      "text/html": [
       "<div>\n",
       "<style scoped>\n",
       "    .dataframe tbody tr th:only-of-type {\n",
       "        vertical-align: middle;\n",
       "    }\n",
       "\n",
       "    .dataframe tbody tr th {\n",
       "        vertical-align: top;\n",
       "    }\n",
       "\n",
       "    .dataframe thead th {\n",
       "        text-align: right;\n",
       "    }\n",
       "</style>\n",
       "<table border=\"1\" class=\"dataframe\">\n",
       "  <thead>\n",
       "    <tr style=\"text-align: right;\">\n",
       "      <th></th>\n",
       "      <th>APPLICATION_TYPE_T10</th>\n",
       "      <th>APPLICATION_TYPE_T12</th>\n",
       "      <th>APPLICATION_TYPE_T13</th>\n",
       "      <th>APPLICATION_TYPE_T14</th>\n",
       "      <th>APPLICATION_TYPE_T15</th>\n",
       "      <th>APPLICATION_TYPE_T17</th>\n",
       "      <th>APPLICATION_TYPE_T19</th>\n",
       "      <th>APPLICATION_TYPE_T2</th>\n",
       "      <th>APPLICATION_TYPE_T25</th>\n",
       "      <th>APPLICATION_TYPE_T29</th>\n",
       "      <th>...</th>\n",
       "      <th>INCOME_AMT_10M-50M</th>\n",
       "      <th>INCOME_AMT_1M-5M</th>\n",
       "      <th>INCOME_AMT_25000-99999</th>\n",
       "      <th>INCOME_AMT_50M+</th>\n",
       "      <th>INCOME_AMT_5M-10M</th>\n",
       "      <th>SPECIAL_CONSIDERATIONS_N</th>\n",
       "      <th>SPECIAL_CONSIDERATIONS_Y</th>\n",
       "      <th>ASK_AMT</th>\n",
       "      <th>IS_SUCCESSFUL</th>\n",
       "      <th>STATUS</th>\n",
       "    </tr>\n",
       "  </thead>\n",
       "  <tbody>\n",
       "    <tr>\n",
       "      <th>0</th>\n",
       "      <td>1.0</td>\n",
       "      <td>0.0</td>\n",
       "      <td>0.0</td>\n",
       "      <td>0.0</td>\n",
       "      <td>0.0</td>\n",
       "      <td>0.0</td>\n",
       "      <td>0.0</td>\n",
       "      <td>0.0</td>\n",
       "      <td>0.0</td>\n",
       "      <td>0.0</td>\n",
       "      <td>...</td>\n",
       "      <td>0.0</td>\n",
       "      <td>0.0</td>\n",
       "      <td>0.0</td>\n",
       "      <td>0.0</td>\n",
       "      <td>0.0</td>\n",
       "      <td>1.0</td>\n",
       "      <td>0.0</td>\n",
       "      <td>5000</td>\n",
       "      <td>1</td>\n",
       "      <td>1</td>\n",
       "    </tr>\n",
       "    <tr>\n",
       "      <th>1</th>\n",
       "      <td>0.0</td>\n",
       "      <td>0.0</td>\n",
       "      <td>0.0</td>\n",
       "      <td>0.0</td>\n",
       "      <td>0.0</td>\n",
       "      <td>0.0</td>\n",
       "      <td>0.0</td>\n",
       "      <td>0.0</td>\n",
       "      <td>0.0</td>\n",
       "      <td>0.0</td>\n",
       "      <td>...</td>\n",
       "      <td>0.0</td>\n",
       "      <td>0.0</td>\n",
       "      <td>0.0</td>\n",
       "      <td>0.0</td>\n",
       "      <td>0.0</td>\n",
       "      <td>1.0</td>\n",
       "      <td>0.0</td>\n",
       "      <td>108590</td>\n",
       "      <td>1</td>\n",
       "      <td>1</td>\n",
       "    </tr>\n",
       "    <tr>\n",
       "      <th>2</th>\n",
       "      <td>0.0</td>\n",
       "      <td>0.0</td>\n",
       "      <td>0.0</td>\n",
       "      <td>0.0</td>\n",
       "      <td>0.0</td>\n",
       "      <td>0.0</td>\n",
       "      <td>0.0</td>\n",
       "      <td>0.0</td>\n",
       "      <td>0.0</td>\n",
       "      <td>0.0</td>\n",
       "      <td>...</td>\n",
       "      <td>0.0</td>\n",
       "      <td>0.0</td>\n",
       "      <td>0.0</td>\n",
       "      <td>0.0</td>\n",
       "      <td>0.0</td>\n",
       "      <td>1.0</td>\n",
       "      <td>0.0</td>\n",
       "      <td>5000</td>\n",
       "      <td>0</td>\n",
       "      <td>1</td>\n",
       "    </tr>\n",
       "    <tr>\n",
       "      <th>3</th>\n",
       "      <td>0.0</td>\n",
       "      <td>0.0</td>\n",
       "      <td>0.0</td>\n",
       "      <td>0.0</td>\n",
       "      <td>0.0</td>\n",
       "      <td>0.0</td>\n",
       "      <td>0.0</td>\n",
       "      <td>0.0</td>\n",
       "      <td>0.0</td>\n",
       "      <td>0.0</td>\n",
       "      <td>...</td>\n",
       "      <td>0.0</td>\n",
       "      <td>0.0</td>\n",
       "      <td>0.0</td>\n",
       "      <td>0.0</td>\n",
       "      <td>0.0</td>\n",
       "      <td>1.0</td>\n",
       "      <td>0.0</td>\n",
       "      <td>6692</td>\n",
       "      <td>1</td>\n",
       "      <td>1</td>\n",
       "    </tr>\n",
       "    <tr>\n",
       "      <th>4</th>\n",
       "      <td>0.0</td>\n",
       "      <td>0.0</td>\n",
       "      <td>0.0</td>\n",
       "      <td>0.0</td>\n",
       "      <td>0.0</td>\n",
       "      <td>0.0</td>\n",
       "      <td>0.0</td>\n",
       "      <td>0.0</td>\n",
       "      <td>0.0</td>\n",
       "      <td>0.0</td>\n",
       "      <td>...</td>\n",
       "      <td>0.0</td>\n",
       "      <td>0.0</td>\n",
       "      <td>0.0</td>\n",
       "      <td>0.0</td>\n",
       "      <td>0.0</td>\n",
       "      <td>1.0</td>\n",
       "      <td>0.0</td>\n",
       "      <td>142590</td>\n",
       "      <td>1</td>\n",
       "      <td>1</td>\n",
       "    </tr>\n",
       "  </tbody>\n",
       "</table>\n",
       "<p>5 rows × 117 columns</p>\n",
       "</div>"
      ],
      "text/plain": [
       "   APPLICATION_TYPE_T10  APPLICATION_TYPE_T12  APPLICATION_TYPE_T13  \\\n",
       "0                   1.0                   0.0                   0.0   \n",
       "1                   0.0                   0.0                   0.0   \n",
       "2                   0.0                   0.0                   0.0   \n",
       "3                   0.0                   0.0                   0.0   \n",
       "4                   0.0                   0.0                   0.0   \n",
       "\n",
       "   APPLICATION_TYPE_T14  APPLICATION_TYPE_T15  APPLICATION_TYPE_T17  \\\n",
       "0                   0.0                   0.0                   0.0   \n",
       "1                   0.0                   0.0                   0.0   \n",
       "2                   0.0                   0.0                   0.0   \n",
       "3                   0.0                   0.0                   0.0   \n",
       "4                   0.0                   0.0                   0.0   \n",
       "\n",
       "   APPLICATION_TYPE_T19  APPLICATION_TYPE_T2  APPLICATION_TYPE_T25  \\\n",
       "0                   0.0                  0.0                   0.0   \n",
       "1                   0.0                  0.0                   0.0   \n",
       "2                   0.0                  0.0                   0.0   \n",
       "3                   0.0                  0.0                   0.0   \n",
       "4                   0.0                  0.0                   0.0   \n",
       "\n",
       "   APPLICATION_TYPE_T29  ...  INCOME_AMT_10M-50M  INCOME_AMT_1M-5M  \\\n",
       "0                   0.0  ...                 0.0               0.0   \n",
       "1                   0.0  ...                 0.0               0.0   \n",
       "2                   0.0  ...                 0.0               0.0   \n",
       "3                   0.0  ...                 0.0               0.0   \n",
       "4                   0.0  ...                 0.0               0.0   \n",
       "\n",
       "   INCOME_AMT_25000-99999  INCOME_AMT_50M+  INCOME_AMT_5M-10M  \\\n",
       "0                     0.0              0.0                0.0   \n",
       "1                     0.0              0.0                0.0   \n",
       "2                     0.0              0.0                0.0   \n",
       "3                     0.0              0.0                0.0   \n",
       "4                     0.0              0.0                0.0   \n",
       "\n",
       "   SPECIAL_CONSIDERATIONS_N  SPECIAL_CONSIDERATIONS_Y  ASK_AMT  IS_SUCCESSFUL  \\\n",
       "0                       1.0                       0.0     5000              1   \n",
       "1                       1.0                       0.0   108590              1   \n",
       "2                       1.0                       0.0     5000              0   \n",
       "3                       1.0                       0.0     6692              1   \n",
       "4                       1.0                       0.0   142590              1   \n",
       "\n",
       "   STATUS  \n",
       "0       1  \n",
       "1       1  \n",
       "2       1  \n",
       "3       1  \n",
       "4       1  \n",
       "\n",
       "[5 rows x 117 columns]"
      ]
     },
     "execution_count": 9,
     "metadata": {},
     "output_type": "execute_result"
    }
   ],
   "source": [
    "# Add the numerical variables from the original DataFrame to the one-hot encoding DataFrame\n",
    "applicant_data_df_numerical = applicant_data_df[[\"ASK_AMT\", \"IS_SUCCESSFUL\", \"STATUS\"]]\n",
    "encoded_df = pd.concat([encoded_df, applicant_data_df_numerical], axis=1)\n",
    "\n",
    "# Review the Dataframe\n",
    "# YOUR CODE HERE\n",
    "encoded_df.head()"
   ]
  },
  {
   "cell_type": "markdown",
   "metadata": {},
   "source": [
    "### Step 5: Using the preprocessed data, create the features (`X`) and target (`y`) datasets. The target dataset should be defined by the preprocessed DataFrame column “IS_SUCCESSFUL”. The remaining columns should define the features dataset. \n",
    "\n"
   ]
  },
  {
   "cell_type": "code",
   "execution_count": 10,
   "metadata": {},
   "outputs": [
    {
     "data": {
      "text/plain": [
       "0    1\n",
       "1    1\n",
       "2    0\n",
       "3    1\n",
       "4    1\n",
       "Name: IS_SUCCESSFUL, dtype: int64"
      ]
     },
     "execution_count": 10,
     "metadata": {},
     "output_type": "execute_result"
    }
   ],
   "source": [
    "# Define the target set y using the IS_SUCCESSFUL column\n",
    "y = encoded_df[\"IS_SUCCESSFUL\"]\n",
    "\n",
    "# Display a sample of y\n",
    "# YOUR CODE HERE\n",
    "y[:5]"
   ]
  },
  {
   "cell_type": "code",
   "execution_count": 11,
   "metadata": {},
   "outputs": [
    {
     "data": {
      "text/html": [
       "<div>\n",
       "<style scoped>\n",
       "    .dataframe tbody tr th:only-of-type {\n",
       "        vertical-align: middle;\n",
       "    }\n",
       "\n",
       "    .dataframe tbody tr th {\n",
       "        vertical-align: top;\n",
       "    }\n",
       "\n",
       "    .dataframe thead th {\n",
       "        text-align: right;\n",
       "    }\n",
       "</style>\n",
       "<table border=\"1\" class=\"dataframe\">\n",
       "  <thead>\n",
       "    <tr style=\"text-align: right;\">\n",
       "      <th></th>\n",
       "      <th>APPLICATION_TYPE_T10</th>\n",
       "      <th>APPLICATION_TYPE_T12</th>\n",
       "      <th>APPLICATION_TYPE_T13</th>\n",
       "      <th>APPLICATION_TYPE_T14</th>\n",
       "      <th>APPLICATION_TYPE_T15</th>\n",
       "      <th>APPLICATION_TYPE_T17</th>\n",
       "      <th>APPLICATION_TYPE_T19</th>\n",
       "      <th>APPLICATION_TYPE_T2</th>\n",
       "      <th>APPLICATION_TYPE_T25</th>\n",
       "      <th>APPLICATION_TYPE_T29</th>\n",
       "      <th>...</th>\n",
       "      <th>INCOME_AMT_100000-499999</th>\n",
       "      <th>INCOME_AMT_10M-50M</th>\n",
       "      <th>INCOME_AMT_1M-5M</th>\n",
       "      <th>INCOME_AMT_25000-99999</th>\n",
       "      <th>INCOME_AMT_50M+</th>\n",
       "      <th>INCOME_AMT_5M-10M</th>\n",
       "      <th>SPECIAL_CONSIDERATIONS_N</th>\n",
       "      <th>SPECIAL_CONSIDERATIONS_Y</th>\n",
       "      <th>ASK_AMT</th>\n",
       "      <th>STATUS</th>\n",
       "    </tr>\n",
       "  </thead>\n",
       "  <tbody>\n",
       "    <tr>\n",
       "      <th>0</th>\n",
       "      <td>1.0</td>\n",
       "      <td>0.0</td>\n",
       "      <td>0.0</td>\n",
       "      <td>0.0</td>\n",
       "      <td>0.0</td>\n",
       "      <td>0.0</td>\n",
       "      <td>0.0</td>\n",
       "      <td>0.0</td>\n",
       "      <td>0.0</td>\n",
       "      <td>0.0</td>\n",
       "      <td>...</td>\n",
       "      <td>0.0</td>\n",
       "      <td>0.0</td>\n",
       "      <td>0.0</td>\n",
       "      <td>0.0</td>\n",
       "      <td>0.0</td>\n",
       "      <td>0.0</td>\n",
       "      <td>1.0</td>\n",
       "      <td>0.0</td>\n",
       "      <td>5000</td>\n",
       "      <td>1</td>\n",
       "    </tr>\n",
       "    <tr>\n",
       "      <th>1</th>\n",
       "      <td>0.0</td>\n",
       "      <td>0.0</td>\n",
       "      <td>0.0</td>\n",
       "      <td>0.0</td>\n",
       "      <td>0.0</td>\n",
       "      <td>0.0</td>\n",
       "      <td>0.0</td>\n",
       "      <td>0.0</td>\n",
       "      <td>0.0</td>\n",
       "      <td>0.0</td>\n",
       "      <td>...</td>\n",
       "      <td>0.0</td>\n",
       "      <td>0.0</td>\n",
       "      <td>0.0</td>\n",
       "      <td>0.0</td>\n",
       "      <td>0.0</td>\n",
       "      <td>0.0</td>\n",
       "      <td>1.0</td>\n",
       "      <td>0.0</td>\n",
       "      <td>108590</td>\n",
       "      <td>1</td>\n",
       "    </tr>\n",
       "    <tr>\n",
       "      <th>2</th>\n",
       "      <td>0.0</td>\n",
       "      <td>0.0</td>\n",
       "      <td>0.0</td>\n",
       "      <td>0.0</td>\n",
       "      <td>0.0</td>\n",
       "      <td>0.0</td>\n",
       "      <td>0.0</td>\n",
       "      <td>0.0</td>\n",
       "      <td>0.0</td>\n",
       "      <td>0.0</td>\n",
       "      <td>...</td>\n",
       "      <td>0.0</td>\n",
       "      <td>0.0</td>\n",
       "      <td>0.0</td>\n",
       "      <td>0.0</td>\n",
       "      <td>0.0</td>\n",
       "      <td>0.0</td>\n",
       "      <td>1.0</td>\n",
       "      <td>0.0</td>\n",
       "      <td>5000</td>\n",
       "      <td>1</td>\n",
       "    </tr>\n",
       "    <tr>\n",
       "      <th>3</th>\n",
       "      <td>0.0</td>\n",
       "      <td>0.0</td>\n",
       "      <td>0.0</td>\n",
       "      <td>0.0</td>\n",
       "      <td>0.0</td>\n",
       "      <td>0.0</td>\n",
       "      <td>0.0</td>\n",
       "      <td>0.0</td>\n",
       "      <td>0.0</td>\n",
       "      <td>0.0</td>\n",
       "      <td>...</td>\n",
       "      <td>0.0</td>\n",
       "      <td>0.0</td>\n",
       "      <td>0.0</td>\n",
       "      <td>0.0</td>\n",
       "      <td>0.0</td>\n",
       "      <td>0.0</td>\n",
       "      <td>1.0</td>\n",
       "      <td>0.0</td>\n",
       "      <td>6692</td>\n",
       "      <td>1</td>\n",
       "    </tr>\n",
       "    <tr>\n",
       "      <th>4</th>\n",
       "      <td>0.0</td>\n",
       "      <td>0.0</td>\n",
       "      <td>0.0</td>\n",
       "      <td>0.0</td>\n",
       "      <td>0.0</td>\n",
       "      <td>0.0</td>\n",
       "      <td>0.0</td>\n",
       "      <td>0.0</td>\n",
       "      <td>0.0</td>\n",
       "      <td>0.0</td>\n",
       "      <td>...</td>\n",
       "      <td>1.0</td>\n",
       "      <td>0.0</td>\n",
       "      <td>0.0</td>\n",
       "      <td>0.0</td>\n",
       "      <td>0.0</td>\n",
       "      <td>0.0</td>\n",
       "      <td>1.0</td>\n",
       "      <td>0.0</td>\n",
       "      <td>142590</td>\n",
       "      <td>1</td>\n",
       "    </tr>\n",
       "  </tbody>\n",
       "</table>\n",
       "<p>5 rows × 116 columns</p>\n",
       "</div>"
      ],
      "text/plain": [
       "   APPLICATION_TYPE_T10  APPLICATION_TYPE_T12  APPLICATION_TYPE_T13  \\\n",
       "0                   1.0                   0.0                   0.0   \n",
       "1                   0.0                   0.0                   0.0   \n",
       "2                   0.0                   0.0                   0.0   \n",
       "3                   0.0                   0.0                   0.0   \n",
       "4                   0.0                   0.0                   0.0   \n",
       "\n",
       "   APPLICATION_TYPE_T14  APPLICATION_TYPE_T15  APPLICATION_TYPE_T17  \\\n",
       "0                   0.0                   0.0                   0.0   \n",
       "1                   0.0                   0.0                   0.0   \n",
       "2                   0.0                   0.0                   0.0   \n",
       "3                   0.0                   0.0                   0.0   \n",
       "4                   0.0                   0.0                   0.0   \n",
       "\n",
       "   APPLICATION_TYPE_T19  APPLICATION_TYPE_T2  APPLICATION_TYPE_T25  \\\n",
       "0                   0.0                  0.0                   0.0   \n",
       "1                   0.0                  0.0                   0.0   \n",
       "2                   0.0                  0.0                   0.0   \n",
       "3                   0.0                  0.0                   0.0   \n",
       "4                   0.0                  0.0                   0.0   \n",
       "\n",
       "   APPLICATION_TYPE_T29  ...  INCOME_AMT_100000-499999  INCOME_AMT_10M-50M  \\\n",
       "0                   0.0  ...                       0.0                 0.0   \n",
       "1                   0.0  ...                       0.0                 0.0   \n",
       "2                   0.0  ...                       0.0                 0.0   \n",
       "3                   0.0  ...                       0.0                 0.0   \n",
       "4                   0.0  ...                       1.0                 0.0   \n",
       "\n",
       "   INCOME_AMT_1M-5M  INCOME_AMT_25000-99999  INCOME_AMT_50M+  \\\n",
       "0               0.0                     0.0              0.0   \n",
       "1               0.0                     0.0              0.0   \n",
       "2               0.0                     0.0              0.0   \n",
       "3               0.0                     0.0              0.0   \n",
       "4               0.0                     0.0              0.0   \n",
       "\n",
       "   INCOME_AMT_5M-10M  SPECIAL_CONSIDERATIONS_N  SPECIAL_CONSIDERATIONS_Y  \\\n",
       "0                0.0                       1.0                       0.0   \n",
       "1                0.0                       1.0                       0.0   \n",
       "2                0.0                       1.0                       0.0   \n",
       "3                0.0                       1.0                       0.0   \n",
       "4                0.0                       1.0                       0.0   \n",
       "\n",
       "   ASK_AMT  STATUS  \n",
       "0     5000       1  \n",
       "1   108590       1  \n",
       "2     5000       1  \n",
       "3     6692       1  \n",
       "4   142590       1  \n",
       "\n",
       "[5 rows x 116 columns]"
      ]
     },
     "execution_count": 11,
     "metadata": {},
     "output_type": "execute_result"
    }
   ],
   "source": [
    "# Define features set X by selecting all columns but IS_SUCCESSFUL\n",
    "X = encoded_df.drop(columns= \"IS_SUCCESSFUL\")\n",
    "\n",
    "# Review the features DataFrame\n",
    "# YOUR CODE HERE\n",
    "X.head()"
   ]
  },
  {
   "cell_type": "markdown",
   "metadata": {},
   "source": [
    "### Step 6: Split the features and target sets into training and testing datasets.\n"
   ]
  },
  {
   "cell_type": "code",
   "execution_count": 12,
   "metadata": {},
   "outputs": [],
   "source": [
    "# Split the preprocessed data into a training and testing dataset\n",
    "# Assign the function a random_state equal to 1\n",
    "X_train, X_test, y_train, y_test = train_test_split(X,y, random_state=1)\n"
   ]
  },
  {
   "cell_type": "markdown",
   "metadata": {},
   "source": [
    "### Step 7: Use scikit-learn's `StandardScaler` to scale the features data."
   ]
  },
  {
   "cell_type": "code",
   "execution_count": 13,
   "metadata": {},
   "outputs": [],
   "source": [
    "# Create a StandardScaler instance\n",
    "scaler = StandardScaler()\n",
    "\n",
    "# Fit the scaler to the features training dataset\n",
    "X_scaler = scaler.fit(X_train)\n",
    "\n",
    "# Fit the scaler to the features training dataset\n",
    "X_train_scaled = X_scaler.transform(X_train)\n",
    "X_test_scaled = X_scaler.transform(X_test)\n"
   ]
  },
  {
   "cell_type": "markdown",
   "metadata": {},
   "source": [
    "---\n",
    "\n",
    "## Compile and Evaluate a Binary Classification Model Using a Neural Network"
   ]
  },
  {
   "cell_type": "markdown",
   "metadata": {},
   "source": [
    "### Step 1: Create a deep neural network by assigning the number of input features, the number of layers, and the number of neurons on each layer using Tensorflow’s Keras.\n",
    "\n",
    "> **Hint** You can start with a two-layer deep neural network model that uses the `relu` activation function for both layers.\n"
   ]
  },
  {
   "cell_type": "code",
   "execution_count": 14,
   "metadata": {},
   "outputs": [
    {
     "data": {
      "text/plain": [
       "116"
      ]
     },
     "execution_count": 14,
     "metadata": {},
     "output_type": "execute_result"
    }
   ],
   "source": [
    "# Define the the number of inputs (features) to the model\n",
    "number_input_features = len(X_train.iloc[0])\n",
    "\n",
    "# Review the number of features\n",
    "number_input_features\n"
   ]
  },
  {
   "cell_type": "code",
   "execution_count": 15,
   "metadata": {},
   "outputs": [],
   "source": [
    "# Define the number of neurons in the output layer\n",
    "number_output_neurons = 1"
   ]
  },
  {
   "cell_type": "code",
   "execution_count": 16,
   "metadata": {},
   "outputs": [
    {
     "data": {
      "text/plain": [
       "58"
      ]
     },
     "execution_count": 16,
     "metadata": {},
     "output_type": "execute_result"
    }
   ],
   "source": [
    "# Define the number of hidden nodes for the first hidden layer\n",
    "hidden_nodes_layer1 =  (number_input_features + 1) //2\n",
    "\n",
    "# Review the number hidden nodes in the first layer\n",
    "hidden_nodes_layer1\n"
   ]
  },
  {
   "cell_type": "code",
   "execution_count": 17,
   "metadata": {},
   "outputs": [
    {
     "data": {
      "text/plain": [
       "29"
      ]
     },
     "execution_count": 17,
     "metadata": {},
     "output_type": "execute_result"
    }
   ],
   "source": [
    "# Define the number of hidden nodes for the second hidden layer\n",
    "hidden_nodes_layer2 =  (hidden_nodes_layer1 +1) //2\n",
    "\n",
    "# Review the number hidden nodes in the second layer\n",
    "hidden_nodes_layer2\n"
   ]
  },
  {
   "cell_type": "code",
   "execution_count": 18,
   "metadata": {},
   "outputs": [],
   "source": [
    "# Create the Sequential model instance\n",
    "nn = Sequential()\n"
   ]
  },
  {
   "cell_type": "code",
   "execution_count": 19,
   "metadata": {},
   "outputs": [],
   "source": [
    "# Add the first hidden layer\n",
    "nn.add(Dense(units=hidden_nodes_layer1, input_dim=number_input_features, activation=\"relu\"))\n"
   ]
  },
  {
   "cell_type": "code",
   "execution_count": 20,
   "metadata": {},
   "outputs": [],
   "source": [
    "# Add the second hidden layer\n",
    "nn.add(Dense(units=hidden_nodes_layer2, activation=\"relu\"))\n"
   ]
  },
  {
   "cell_type": "code",
   "execution_count": 21,
   "metadata": {},
   "outputs": [],
   "source": [
    "# Add the output layer to the model specifying the number of output neurons and activation function\n",
    "# YOUR CODE HERE\n",
    "nn.add(Dense(units=number_output_neurons, activation=\"sigmoid\"))"
   ]
  },
  {
   "cell_type": "code",
   "execution_count": 22,
   "metadata": {},
   "outputs": [
    {
     "name": "stdout",
     "output_type": "stream",
     "text": [
      "Model: \"sequential\"\n",
      "_________________________________________________________________\n",
      " Layer (type)                Output Shape              Param #   \n",
      "=================================================================\n",
      " dense (Dense)               (None, 58)                6786      \n",
      "                                                                 \n",
      " dense_1 (Dense)             (None, 29)                1711      \n",
      "                                                                 \n",
      " dense_2 (Dense)             (None, 1)                 30        \n",
      "                                                                 \n",
      "=================================================================\n",
      "Total params: 8,527\n",
      "Trainable params: 8,527\n",
      "Non-trainable params: 0\n",
      "_________________________________________________________________\n"
     ]
    }
   ],
   "source": [
    "# Display the Sequential model summary\n",
    "# YOUR CODE HERE\n",
    "nn.summary()"
   ]
  },
  {
   "cell_type": "markdown",
   "metadata": {},
   "source": [
    "### Step 2: Compile and fit the model using the `binary_crossentropy` loss function, the `adam` optimizer, and the `accuracy` evaluation metric.\n"
   ]
  },
  {
   "cell_type": "code",
   "execution_count": 23,
   "metadata": {},
   "outputs": [],
   "source": [
    "# Compile the Sequential model\n",
    "# YOUR CODE HERE\n",
    "nn.compile(loss=\"binary_crossentropy\", optimizer=\"adam\", metrics=[\"accuracy\"])"
   ]
  },
  {
   "cell_type": "code",
   "execution_count": 24,
   "metadata": {},
   "outputs": [
    {
     "name": "stdout",
     "output_type": "stream",
     "text": [
      "Epoch 1/50\n",
      "804/804 [==============================] - 1s 809us/step - loss: 31388.9375 - accuracy: 0.4867\n",
      "Epoch 2/50\n",
      "804/804 [==============================] - 1s 764us/step - loss: 40807.1445 - accuracy: 0.5042\n",
      "Epoch 3/50\n",
      "804/804 [==============================] - 1s 850us/step - loss: 48380.5898 - accuracy: 0.5026\n",
      "Epoch 4/50\n",
      "804/804 [==============================] - 1s 836us/step - loss: 27591.9941 - accuracy: 0.5094\n",
      "Epoch 5/50\n",
      "804/804 [==============================] - 1s 909us/step - loss: 25245.5566 - accuracy: 0.5110\n",
      "Epoch 6/50\n",
      "804/804 [==============================] - 1s 757us/step - loss: 18556.6035 - accuracy: 0.5110\n",
      "Epoch 7/50\n",
      "804/804 [==============================] - 1s 738us/step - loss: 13629.3887 - accuracy: 0.5132\n",
      "Epoch 8/50\n",
      "804/804 [==============================] - 1s 734us/step - loss: 28335.6914 - accuracy: 0.5198\n",
      "Epoch 9/50\n",
      "804/804 [==============================] - 1s 748us/step - loss: 2225.1819 - accuracy: 0.5307\n",
      "Epoch 10/50\n",
      "804/804 [==============================] - 1s 744us/step - loss: 9133.7490 - accuracy: 0.4921\n",
      "Epoch 11/50\n",
      "804/804 [==============================] - 1s 749us/step - loss: 3457.8137 - accuracy: 0.5356\n",
      "Epoch 12/50\n",
      "804/804 [==============================] - 1s 741us/step - loss: 16267.6768 - accuracy: 0.4998\n",
      "Epoch 13/50\n",
      "804/804 [==============================] - 1s 755us/step - loss: 4384.6880 - accuracy: 0.5295\n",
      "Epoch 14/50\n",
      "804/804 [==============================] - 1s 744us/step - loss: 9203.1357 - accuracy: 0.5259\n",
      "Epoch 15/50\n",
      "804/804 [==============================] - 1s 761us/step - loss: 1082.7617 - accuracy: 0.5312\n",
      "Epoch 16/50\n",
      "804/804 [==============================] - 1s 740us/step - loss: 7510.8345 - accuracy: 0.5384\n",
      "Epoch 17/50\n",
      "804/804 [==============================] - 1s 747us/step - loss: 2165.3535 - accuracy: 0.5705\n",
      "Epoch 18/50\n",
      "804/804 [==============================] - 1s 753us/step - loss: 3046.2522 - accuracy: 0.5372\n",
      "Epoch 19/50\n",
      "804/804 [==============================] - 1s 747us/step - loss: 493.9732 - accuracy: 0.5453\n",
      "Epoch 20/50\n",
      "804/804 [==============================] - 1s 839us/step - loss: 1607.6821 - accuracy: 0.5021\n",
      "Epoch 21/50\n",
      "804/804 [==============================] - 1s 743us/step - loss: 1986.3602 - accuracy: 0.5093\n",
      "Epoch 22/50\n",
      "804/804 [==============================] - 1s 744us/step - loss: 7.6219 - accuracy: 0.5287\n",
      "Epoch 23/50\n",
      "804/804 [==============================] - 1s 761us/step - loss: 0.6611 - accuracy: 0.5484\n",
      "Epoch 24/50\n",
      "804/804 [==============================] - 1s 796us/step - loss: 0.6371 - accuracy: 0.6444\n",
      "Epoch 25/50\n",
      "804/804 [==============================] - 1s 755us/step - loss: 0.6302 - accuracy: 0.6523\n",
      "Epoch 26/50\n",
      "804/804 [==============================] - 1s 761us/step - loss: 0.6281 - accuracy: 0.6548\n",
      "Epoch 27/50\n",
      "804/804 [==============================] - 1s 751us/step - loss: 0.6259 - accuracy: 0.6600\n",
      "Epoch 28/50\n",
      "804/804 [==============================] - 1s 749us/step - loss: 0.6433 - accuracy: 0.6233\n",
      "Epoch 29/50\n",
      "804/804 [==============================] - 1s 787us/step - loss: 0.6918 - accuracy: 0.5244\n",
      "Epoch 30/50\n",
      "804/804 [==============================] - 1s 763us/step - loss: 0.6910 - accuracy: 0.5335\n",
      "Epoch 31/50\n",
      "804/804 [==============================] - 1s 1ms/step - loss: 0.6910 - accuracy: 0.5335\n",
      "Epoch 32/50\n",
      "804/804 [==============================] - 1s 1ms/step - loss: 0.6910 - accuracy: 0.5335: 0s - loss: 0.6909 - accuracy: \n",
      "Epoch 33/50\n",
      "804/804 [==============================] - 1s 789us/step - loss: 0.6910 - accuracy: 0.5335\n",
      "Epoch 34/50\n",
      "804/804 [==============================] - 1s 782us/step - loss: 0.6909 - accuracy: 0.5335\n",
      "Epoch 35/50\n",
      "804/804 [==============================] - 1s 898us/step - loss: 0.6910 - accuracy: 0.5335\n",
      "Epoch 36/50\n",
      "804/804 [==============================] - 1s 786us/step - loss: 0.6910 - accuracy: 0.5335\n",
      "Epoch 37/50\n",
      "804/804 [==============================] - 1s 795us/step - loss: 0.6909 - accuracy: 0.5335\n",
      "Epoch 38/50\n",
      "804/804 [==============================] - 1s 1ms/step - loss: 0.6910 - accuracy: 0.5335\n",
      "Epoch 39/50\n",
      "804/804 [==============================] - 1s 1ms/step - loss: 0.6909 - accuracy: 0.5335\n",
      "Epoch 40/50\n",
      "804/804 [==============================] - 1s 873us/step - loss: 0.6910 - accuracy: 0.5335\n",
      "Epoch 41/50\n",
      "804/804 [==============================] - 1s 1ms/step - loss: 0.6910 - accuracy: 0.5335\n",
      "Epoch 42/50\n",
      "804/804 [==============================] - 1s 767us/step - loss: 0.6910 - accuracy: 0.5335\n",
      "Epoch 43/50\n",
      "804/804 [==============================] - 1s 982us/step - loss: 0.6908 - accuracy: 0.5335\n",
      "Epoch 44/50\n",
      "804/804 [==============================] - 1s 1ms/step - loss: 0.6910 - accuracy: 0.5335\n",
      "Epoch 45/50\n",
      "804/804 [==============================] - 1s 768us/step - loss: 0.6910 - accuracy: 0.5335\n",
      "Epoch 46/50\n",
      "804/804 [==============================] - 1s 884us/step - loss: 0.6909 - accuracy: 0.5335\n",
      "Epoch 47/50\n",
      "804/804 [==============================] - 1s 867us/step - loss: 0.6910 - accuracy: 0.5335\n",
      "Epoch 48/50\n",
      "804/804 [==============================] - 1s 1ms/step - loss: 0.6910 - accuracy: 0.5335\n",
      "Epoch 49/50\n",
      "804/804 [==============================] - 1s 828us/step - loss: 0.6910 - accuracy: 0.5335\n",
      "Epoch 50/50\n",
      "804/804 [==============================] - 1s 822us/step - loss: 0.6910 - accuracy: 0.5335\n"
     ]
    }
   ],
   "source": [
    "# Fit the model using 50 epochs and the training data\n",
    "# YOUR CODE HERE\n",
    "model = nn.fit(X_train, y_train, epochs=50)"
   ]
  },
  {
   "cell_type": "markdown",
   "metadata": {},
   "source": [
    "### Step 3: Evaluate the model using the test data to determine the model’s loss and accuracy.\n"
   ]
  },
  {
   "cell_type": "code",
   "execution_count": 25,
   "metadata": {},
   "outputs": [
    {
     "name": "stdout",
     "output_type": "stream",
     "text": [
      "268/268 - 0s - loss: 1.2393 - accuracy: 0.6968 - 233ms/epoch - 870us/step\n",
      "Loss: 1.2392685413360596, Accuracy: 0.6967930197715759\n"
     ]
    }
   ],
   "source": [
    "# Evaluate the model loss and accuracy metrics using the evaluate method and the test data\n",
    "model_loss, model_accuracy = nn.evaluate(X_test_scaled, y_test, verbose=2)\n",
    "\n",
    "# Display the model loss and accuracy results\n",
    "print(f\"Loss: {model_loss}, Accuracy: {model_accuracy}\")"
   ]
  },
  {
   "cell_type": "markdown",
   "metadata": {},
   "source": [
    "### Step 4: Save and export your model to an HDF5 file, and name the file `AlphabetSoup.h5`. \n"
   ]
  },
  {
   "cell_type": "code",
   "execution_count": 26,
   "metadata": {},
   "outputs": [],
   "source": [
    "# Set the model's file path\n",
    "file_path = Path(\"./AlphabetSoup.h5\")\n",
    "\n",
    "# Export your model to a HDF5 file\n",
    "# YOUR CODE HERE\n",
    "nn.save(file_path)"
   ]
  },
  {
   "cell_type": "markdown",
   "metadata": {},
   "source": [
    "---\n",
    "\n",
    "## Optimize the neural network model\n"
   ]
  },
  {
   "cell_type": "markdown",
   "metadata": {},
   "source": [
    "### Step 1: Define at least three new deep neural network models (resulting in the original plus 3 optimization attempts). With each, try to improve on your first model’s predictive accuracy.\n",
    "\n",
    "> **Rewind** Recall that perfect accuracy has a value of 1, so accuracy improves as its value moves closer to 1. To optimize your model for a predictive accuracy as close to 1 as possible, you can use any or all of the following techniques:\n",
    ">\n",
    "> * Adjust the input data by dropping different features columns to ensure that no variables or outliers confuse the model.\n",
    ">\n",
    "> * Add more neurons (nodes) to a hidden layer.\n",
    ">\n",
    "> * Add more hidden layers.\n",
    ">\n",
    "> * Use different activation functions for the hidden layers.\n",
    ">\n",
    "> * Add to or reduce the number of epochs in the training regimen.\n"
   ]
  },
  {
   "cell_type": "markdown",
   "metadata": {},
   "source": [
    "### Alternative Model 1"
   ]
  },
  {
   "cell_type": "code",
   "execution_count": 27,
   "metadata": {},
   "outputs": [
    {
     "data": {
      "text/plain": [
       "116"
      ]
     },
     "execution_count": 27,
     "metadata": {},
     "output_type": "execute_result"
    }
   ],
   "source": [
    "# Creating model with only one hidden layer\n",
    "# Define the the number of inputs (features) to the model\n",
    "number_input_features_A1 = len(X_train.iloc[0])\n",
    "\n",
    "# Review the number of features\n",
    "number_input_features_A1"
   ]
  },
  {
   "cell_type": "code",
   "execution_count": 28,
   "metadata": {},
   "outputs": [],
   "source": [
    "# Define the number of neurons in the output layer\n",
    "number_output_neurons_A1 = 1"
   ]
  },
  {
   "cell_type": "code",
   "execution_count": 29,
   "metadata": {},
   "outputs": [
    {
     "data": {
      "text/plain": [
       "58"
      ]
     },
     "execution_count": 29,
     "metadata": {},
     "output_type": "execute_result"
    }
   ],
   "source": [
    "# Define the number of hidden nodes for the first hidden layer\n",
    "hidden_nodes_layer1_A1 = (number_input_features + 1) // 2\n",
    "\n",
    "# Review the number of hidden nodes in the first layer\n",
    "hidden_nodes_layer1_A1"
   ]
  },
  {
   "cell_type": "code",
   "execution_count": 30,
   "metadata": {},
   "outputs": [],
   "source": [
    "# Create the Sequential model instance\n",
    "nn_A1 = Sequential()"
   ]
  },
  {
   "cell_type": "code",
   "execution_count": 31,
   "metadata": {},
   "outputs": [
    {
     "name": "stdout",
     "output_type": "stream",
     "text": [
      "Model: \"sequential_1\"\n",
      "_________________________________________________________________\n",
      " Layer (type)                Output Shape              Param #   \n",
      "=================================================================\n",
      " dense_3 (Dense)             (None, 58)                6786      \n",
      "                                                                 \n",
      " dense_4 (Dense)             (None, 1)                 59        \n",
      "                                                                 \n",
      "=================================================================\n",
      "Total params: 6,845\n",
      "Trainable params: 6,845\n",
      "Non-trainable params: 0\n",
      "_________________________________________________________________\n"
     ]
    }
   ],
   "source": [
    "# First hidden layer\n",
    "nn_A1.add(Dense(units=hidden_nodes_layer1_A1, input_dim= number_input_features_A1, activation=\"relu\"))\n",
    "\n",
    "\n",
    "# Output layer\n",
    "nn_A1.add(Dense(units=number_output_neurons, activation=\"sigmoid\"))\n",
    "\n",
    "\n",
    "# Check the structure of the model\n",
    "nn_A1.summary()"
   ]
  },
  {
   "cell_type": "code",
   "execution_count": 32,
   "metadata": {},
   "outputs": [],
   "source": [
    "# Compile the Sequential model\n",
    "nn_A1.compile(loss=\"binary_crossentropy\", optimizer=\"adam\", metrics=[\"accuracy\"])"
   ]
  },
  {
   "cell_type": "code",
   "execution_count": 33,
   "metadata": {},
   "outputs": [
    {
     "name": "stdout",
     "output_type": "stream",
     "text": [
      "Epoch 1/100\n",
      "804/804 [==============================] - 1s 763us/step - loss: 0.5939 - accuracy: 0.7100\n",
      "Epoch 2/100\n",
      "804/804 [==============================] - 1s 804us/step - loss: 0.5586 - accuracy: 0.7297\n",
      "Epoch 3/100\n",
      "804/804 [==============================] - 1s 748us/step - loss: 0.5541 - accuracy: 0.7287\n",
      "Epoch 4/100\n",
      "804/804 [==============================] - ETA: 0s - loss: 0.5516 - accuracy: 0.73 - 1s 746us/step - loss: 0.5514 - accuracy: 0.7302\n",
      "Epoch 5/100\n",
      "804/804 [==============================] - 1s 1ms/step - loss: 0.5504 - accuracy: 0.7313\n",
      "Epoch 6/100\n",
      "804/804 [==============================] - 1s 712us/step - loss: 0.5501 - accuracy: 0.7317\n",
      "Epoch 7/100\n",
      "804/804 [==============================] - 1s 738us/step - loss: 0.5475 - accuracy: 0.7320\n",
      "Epoch 8/100\n",
      "804/804 [==============================] - 1s 708us/step - loss: 0.5477 - accuracy: 0.7328\n",
      "Epoch 9/100\n",
      "804/804 [==============================] - 1s 703us/step - loss: 0.5471 - accuracy: 0.7315\n",
      "Epoch 10/100\n",
      "804/804 [==============================] - 1s 691us/step - loss: 0.5463 - accuracy: 0.7325\n",
      "Epoch 11/100\n",
      "804/804 [==============================] - 1s 702us/step - loss: 0.5457 - accuracy: 0.7329\n",
      "Epoch 12/100\n",
      "804/804 [==============================] - 1s 691us/step - loss: 0.5448 - accuracy: 0.7336\n",
      "Epoch 13/100\n",
      "804/804 [==============================] - 1s 703us/step - loss: 0.5447 - accuracy: 0.7336\n",
      "Epoch 14/100\n",
      "804/804 [==============================] - 1s 722us/step - loss: 0.5443 - accuracy: 0.7331\n",
      "Epoch 15/100\n",
      "804/804 [==============================] - 1s 694us/step - loss: 0.5438 - accuracy: 0.7331\n",
      "Epoch 16/100\n",
      "804/804 [==============================] - 1s 682us/step - loss: 0.5436 - accuracy: 0.7331\n",
      "Epoch 17/100\n",
      "804/804 [==============================] - 1s 683us/step - loss: 0.5431 - accuracy: 0.7338\n",
      "Epoch 18/100\n",
      "804/804 [==============================] - 1s 686us/step - loss: 0.5427 - accuracy: 0.7345\n",
      "Epoch 19/100\n",
      "804/804 [==============================] - 1s 698us/step - loss: 0.5432 - accuracy: 0.7341\n",
      "Epoch 20/100\n",
      "804/804 [==============================] - 1s 695us/step - loss: 0.5421 - accuracy: 0.7331\n",
      "Epoch 21/100\n",
      "804/804 [==============================] - 1s 688us/step - loss: 0.5423 - accuracy: 0.7342\n",
      "Epoch 22/100\n",
      "804/804 [==============================] - 1s 720us/step - loss: 0.5417 - accuracy: 0.7336\n",
      "Epoch 23/100\n",
      "804/804 [==============================] - 1s 720us/step - loss: 0.5416 - accuracy: 0.7354\n",
      "Epoch 24/100\n",
      "804/804 [==============================] - 1s 807us/step - loss: 0.5419 - accuracy: 0.7353\n",
      "Epoch 25/100\n",
      "804/804 [==============================] - 1s 851us/step - loss: 0.5412 - accuracy: 0.7342\n",
      "Epoch 26/100\n",
      "804/804 [==============================] - 1s 1ms/step - loss: 0.5411 - accuracy: 0.7346\n",
      "Epoch 27/100\n",
      "804/804 [==============================] - 1s 1ms/step - loss: 0.5406 - accuracy: 0.7346: 0s - loss: 0.5399 - accu\n",
      "Epoch 28/100\n",
      "804/804 [==============================] - 1s 882us/step - loss: 0.5410 - accuracy: 0.7357\n",
      "Epoch 29/100\n",
      "804/804 [==============================] - 1s 713us/step - loss: 0.5410 - accuracy: 0.7350\n",
      "Epoch 30/100\n",
      "804/804 [==============================] - 1s 710us/step - loss: 0.5403 - accuracy: 0.7346\n",
      "Epoch 31/100\n",
      "804/804 [==============================] - 1s 692us/step - loss: 0.5405 - accuracy: 0.7354\n",
      "Epoch 32/100\n",
      "804/804 [==============================] - 1s 772us/step - loss: 0.5400 - accuracy: 0.7361\n",
      "Epoch 33/100\n",
      "804/804 [==============================] - 1s 887us/step - loss: 0.5396 - accuracy: 0.7350\n",
      "Epoch 34/100\n",
      "804/804 [==============================] - 1s 725us/step - loss: 0.5393 - accuracy: 0.7362\n",
      "Epoch 35/100\n",
      "804/804 [==============================] - 1s 697us/step - loss: 0.5394 - accuracy: 0.7350\n",
      "Epoch 36/100\n",
      "804/804 [==============================] - 1s 758us/step - loss: 0.5398 - accuracy: 0.7359\n",
      "Epoch 37/100\n",
      "804/804 [==============================] - 1s 707us/step - loss: 0.5396 - accuracy: 0.7358\n",
      "Epoch 38/100\n",
      "804/804 [==============================] - 1s 705us/step - loss: 0.5387 - accuracy: 0.7365\n",
      "Epoch 39/100\n",
      "804/804 [==============================] - 1s 697us/step - loss: 0.5396 - accuracy: 0.7371\n",
      "Epoch 40/100\n",
      "804/804 [==============================] - 1s 730us/step - loss: 0.5392 - accuracy: 0.7364\n",
      "Epoch 41/100\n",
      "804/804 [==============================] - 1s 698us/step - loss: 0.5387 - accuracy: 0.7366\n",
      "Epoch 42/100\n",
      "804/804 [==============================] - 1s 715us/step - loss: 0.5391 - accuracy: 0.7367\n",
      "Epoch 43/100\n",
      "804/804 [==============================] - 1s 701us/step - loss: 0.5385 - accuracy: 0.7362\n",
      "Epoch 44/100\n",
      "804/804 [==============================] - 1s 699us/step - loss: 0.5385 - accuracy: 0.7368\n",
      "Epoch 45/100\n",
      "804/804 [==============================] - 1s 698us/step - loss: 0.5381 - accuracy: 0.7364\n",
      "Epoch 46/100\n",
      "804/804 [==============================] - 1s 696us/step - loss: 0.5380 - accuracy: 0.7367\n",
      "Epoch 47/100\n",
      "804/804 [==============================] - 1s 733us/step - loss: 0.5377 - accuracy: 0.7368\n",
      "Epoch 48/100\n",
      "804/804 [==============================] - 1s 689us/step - loss: 0.5378 - accuracy: 0.7374\n",
      "Epoch 49/100\n",
      "804/804 [==============================] - 1s 689us/step - loss: 0.5380 - accuracy: 0.7371\n",
      "Epoch 50/100\n",
      "804/804 [==============================] - 1s 677us/step - loss: 0.5377 - accuracy: 0.7365\n",
      "Epoch 51/100\n",
      "804/804 [==============================] - 1s 691us/step - loss: 0.5380 - accuracy: 0.7366\n",
      "Epoch 52/100\n",
      "804/804 [==============================] - 1s 701us/step - loss: 0.5379 - accuracy: 0.7382\n",
      "Epoch 53/100\n",
      "804/804 [==============================] - 1s 728us/step - loss: 0.5373 - accuracy: 0.7376\n",
      "Epoch 54/100\n",
      "804/804 [==============================] - 1s 722us/step - loss: 0.5375 - accuracy: 0.7368\n",
      "Epoch 55/100\n",
      "804/804 [==============================] - 1s 724us/step - loss: 0.5375 - accuracy: 0.7383\n",
      "Epoch 56/100\n",
      "804/804 [==============================] - 1s 714us/step - loss: 0.5371 - accuracy: 0.7378\n",
      "Epoch 57/100\n",
      "804/804 [==============================] - 1s 858us/step - loss: 0.5372 - accuracy: 0.7384\n",
      "Epoch 58/100\n",
      "804/804 [==============================] - 1s 886us/step - loss: 0.5373 - accuracy: 0.7388\n",
      "Epoch 59/100\n",
      "804/804 [==============================] - 1s 744us/step - loss: 0.5366 - accuracy: 0.7382\n",
      "Epoch 60/100\n",
      "804/804 [==============================] - 1s 779us/step - loss: 0.5366 - accuracy: 0.7374\n",
      "Epoch 61/100\n",
      "804/804 [==============================] - 1s 841us/step - loss: 0.5372 - accuracy: 0.7379\n",
      "Epoch 62/100\n",
      "804/804 [==============================] - 1s 765us/step - loss: 0.5371 - accuracy: 0.7391\n",
      "Epoch 63/100\n",
      "804/804 [==============================] - 1s 767us/step - loss: 0.5370 - accuracy: 0.7385\n",
      "Epoch 64/100\n",
      "804/804 [==============================] - 1s 793us/step - loss: 0.5366 - accuracy: 0.7381\n",
      "Epoch 65/100\n",
      "804/804 [==============================] - 1s 735us/step - loss: 0.5365 - accuracy: 0.7374\n",
      "Epoch 66/100\n",
      "804/804 [==============================] - 1s 741us/step - loss: 0.5363 - accuracy: 0.7390\n",
      "Epoch 67/100\n",
      "804/804 [==============================] - 1s 775us/step - loss: 0.5370 - accuracy: 0.7372\n",
      "Epoch 68/100\n",
      "804/804 [==============================] - 1s 720us/step - loss: 0.5364 - accuracy: 0.7385\n",
      "Epoch 69/100\n",
      "804/804 [==============================] - 1s 727us/step - loss: 0.5358 - accuracy: 0.7384\n",
      "Epoch 70/100\n",
      "804/804 [==============================] - 1s 708us/step - loss: 0.5355 - accuracy: 0.7376\n",
      "Epoch 71/100\n",
      "804/804 [==============================] - 1s 723us/step - loss: 0.5370 - accuracy: 0.7388\n",
      "Epoch 72/100\n",
      "804/804 [==============================] - 1s 885us/step - loss: 0.5357 - accuracy: 0.7395\n",
      "Epoch 73/100\n",
      "804/804 [==============================] - 1s 839us/step - loss: 0.5362 - accuracy: 0.73860s - loss: 0.5355 - accuracy: 0.\n",
      "Epoch 74/100\n",
      "804/804 [==============================] - 1s 874us/step - loss: 0.5361 - accuracy: 0.7392\n",
      "Epoch 75/100\n",
      "804/804 [==============================] - 1s 819us/step - loss: 0.5377 - accuracy: 0.7386\n",
      "Epoch 76/100\n",
      "804/804 [==============================] - 1s 745us/step - loss: 0.5354 - accuracy: 0.7398\n",
      "Epoch 77/100\n",
      "804/804 [==============================] - 1s 942us/step - loss: 0.5358 - accuracy: 0.7391\n",
      "Epoch 78/100\n",
      "804/804 [==============================] - 1s 749us/step - loss: 0.5356 - accuracy: 0.7389\n",
      "Epoch 79/100\n",
      "804/804 [==============================] - 1s 980us/step - loss: 0.5353 - accuracy: 0.7376\n",
      "Epoch 80/100\n",
      "804/804 [==============================] - 1s 1ms/step - loss: 0.5355 - accuracy: 0.7386\n",
      "Epoch 81/100\n",
      "804/804 [==============================] - 1s 876us/step - loss: 0.5357 - accuracy: 0.7399\n",
      "Epoch 82/100\n",
      "804/804 [==============================] - 1s 872us/step - loss: 0.5356 - accuracy: 0.7395\n",
      "Epoch 83/100\n",
      "804/804 [==============================] - 1s 909us/step - loss: 0.5353 - accuracy: 0.7385\n",
      "Epoch 84/100\n",
      "804/804 [==============================] - 1s 917us/step - loss: 0.5357 - accuracy: 0.7386\n",
      "Epoch 85/100\n",
      "804/804 [==============================] - 1s 1ms/step - loss: 0.5383 - accuracy: 0.7389: 0s - loss: 0.5\n",
      "Epoch 86/100\n",
      "804/804 [==============================] - 1s 712us/step - loss: 0.5352 - accuracy: 0.7398\n",
      "Epoch 87/100\n",
      "804/804 [==============================] - 1s 741us/step - loss: 0.5349 - accuracy: 0.7395\n",
      "Epoch 88/100\n",
      "804/804 [==============================] - 1s 730us/step - loss: 0.5348 - accuracy: 0.7385\n",
      "Epoch 89/100\n",
      "804/804 [==============================] - 1s 728us/step - loss: 0.5349 - accuracy: 0.7395\n",
      "Epoch 90/100\n",
      "804/804 [==============================] - 1s 770us/step - loss: 0.5349 - accuracy: 0.7393\n",
      "Epoch 91/100\n",
      "804/804 [==============================] - ETA: 0s - loss: 0.5345 - accuracy: 0.73 - 1s 737us/step - loss: 0.5347 - accuracy: 0.7385\n",
      "Epoch 92/100\n",
      "804/804 [==============================] - 1s 716us/step - loss: 0.5351 - accuracy: 0.7400\n",
      "Epoch 93/100\n",
      "804/804 [==============================] - 1s 722us/step - loss: 0.5354 - accuracy: 0.7389\n",
      "Epoch 94/100\n",
      "804/804 [==============================] - 1s 754us/step - loss: 0.5350 - accuracy: 0.7376\n",
      "Epoch 95/100\n",
      "804/804 [==============================] - 1s 696us/step - loss: 0.5348 - accuracy: 0.7390\n",
      "Epoch 96/100\n",
      "804/804 [==============================] - 1s 688us/step - loss: 0.5346 - accuracy: 0.7385\n",
      "Epoch 97/100\n",
      "804/804 [==============================] - 1s 747us/step - loss: 0.5347 - accuracy: 0.7390\n",
      "Epoch 98/100\n",
      "804/804 [==============================] - 1s 701us/step - loss: 0.5343 - accuracy: 0.7403\n",
      "Epoch 99/100\n",
      "804/804 [==============================] - 1s 696us/step - loss: 0.5347 - accuracy: 0.7398\n",
      "Epoch 100/100\n",
      "804/804 [==============================] - 1s 693us/step - loss: 0.5345 - accuracy: 0.7405\n"
     ]
    }
   ],
   "source": [
    "# Fit the model using 110 epochs and the training data\n",
    "model_A1 = nn_A1.fit(X_train_scaled, y_train, epochs=100)\n"
   ]
  },
  {
   "cell_type": "markdown",
   "metadata": {},
   "source": [
    "#### Alternative Model 2"
   ]
  },
  {
   "cell_type": "code",
   "execution_count": 34,
   "metadata": {},
   "outputs": [
    {
     "data": {
      "text/plain": [
       "116"
      ]
     },
     "execution_count": 34,
     "metadata": {},
     "output_type": "execute_result"
    }
   ],
   "source": [
    "# Define the the number of inputs (features) to the model\n",
    "number_input_features_A2 = len(X_train.iloc[0])\n",
    "\n",
    "# Review the number of features\n",
    "number_input_features_A2"
   ]
  },
  {
   "cell_type": "code",
   "execution_count": 35,
   "metadata": {},
   "outputs": [],
   "source": [
    "# Define the number of neurons in the output layer\n",
    "number_output_neurons_A2 = 1"
   ]
  },
  {
   "cell_type": "code",
   "execution_count": 36,
   "metadata": {},
   "outputs": [
    {
     "data": {
      "text/plain": [
       "58"
      ]
     },
     "execution_count": 36,
     "metadata": {},
     "output_type": "execute_result"
    }
   ],
   "source": [
    "# Define the number of hidden nodes for the first hidden layer\n",
    "hidden_nodes_layer1_A2 = (number_input_features + 1) //2\n",
    "\n",
    "# Review the number of hidden nodes in the first layer\n",
    "hidden_nodes_layer1_A2"
   ]
  },
  {
   "cell_type": "code",
   "execution_count": 37,
   "metadata": {},
   "outputs": [
    {
     "data": {
      "text/plain": [
       "29"
      ]
     },
     "execution_count": 37,
     "metadata": {},
     "output_type": "execute_result"
    }
   ],
   "source": [
    "# Adding second hidden layer\n",
    "hidden_nodes_layer2_A2 = (hidden_nodes_layer1_A1 + 1) //2\n",
    "\n",
    "# Review the number of hidden nodes in the second layer\n",
    "hidden_nodes_layer2_A2"
   ]
  },
  {
   "cell_type": "code",
   "execution_count": 38,
   "metadata": {},
   "outputs": [
    {
     "data": {
      "text/plain": [
       "15"
      ]
     },
     "execution_count": 38,
     "metadata": {},
     "output_type": "execute_result"
    }
   ],
   "source": [
    "# Adding third hidden layer\n",
    "hidden_nodes_layer3_A2 = (hidden_nodes_layer2_A2 +1) // 2\n",
    "\n",
    "# Review the number of hidden nodes in the third layer\n",
    "hidden_nodes_layer3_A2"
   ]
  },
  {
   "cell_type": "code",
   "execution_count": 39,
   "metadata": {},
   "outputs": [],
   "source": [
    "# Create the Sequential model instance\n",
    "nn_A2 = Sequential()"
   ]
  },
  {
   "cell_type": "code",
   "execution_count": 40,
   "metadata": {},
   "outputs": [
    {
     "name": "stdout",
     "output_type": "stream",
     "text": [
      "Model: \"sequential_2\"\n",
      "_________________________________________________________________\n",
      " Layer (type)                Output Shape              Param #   \n",
      "=================================================================\n",
      " dense_5 (Dense)             (None, 58)                6786      \n",
      "                                                                 \n",
      " dense_6 (Dense)             (None, 29)                1711      \n",
      "                                                                 \n",
      " dense_7 (Dense)             (None, 15)                450       \n",
      "                                                                 \n",
      " dense_8 (Dense)             (None, 1)                 16        \n",
      "                                                                 \n",
      "=================================================================\n",
      "Total params: 8,963\n",
      "Trainable params: 8,963\n",
      "Non-trainable params: 0\n",
      "_________________________________________________________________\n"
     ]
    }
   ],
   "source": [
    "# First hidden layer\n",
    "nn_A2.add(Dense(units=hidden_nodes_layer1_A2, input_dim=number_input_features, activation=\"relu\"))\n",
    "\n",
    "# Second hidden layer\n",
    "nn_A2.add(Dense(units=hidden_nodes_layer2_A2, activation=\"relu\"))\n",
    "\n",
    "# Third hidden layer\n",
    "nn_A2.add(Dense(units=hidden_nodes_layer3_A2, activation=\"relu\"))\n",
    "\n",
    "# Output layer\n",
    "nn_A2.add(Dense(units=number_output_neurons_A2, activation=\"sigmoid\"))\n",
    "\n",
    "# Check the structure of the model\n",
    "nn_A2.summary()\n"
   ]
  },
  {
   "cell_type": "code",
   "execution_count": 41,
   "metadata": {},
   "outputs": [],
   "source": [
    "# Compile the model\n",
    "nn_A2.compile(loss=\"binary_crossentropy\", optimizer=\"adam\", metrics=[\"accuracy\"])"
   ]
  },
  {
   "cell_type": "code",
   "execution_count": 42,
   "metadata": {},
   "outputs": [
    {
     "name": "stdout",
     "output_type": "stream",
     "text": [
      "Epoch 1/150\n",
      "804/804 [==============================] - 1s 841us/step - loss: 0.5729 - accuracy: 0.7183\n",
      "Epoch 2/150\n",
      "804/804 [==============================] - 1s 870us/step - loss: 0.5514 - accuracy: 0.7308\n",
      "Epoch 3/150\n",
      "804/804 [==============================] - 1s 822us/step - loss: 0.5483 - accuracy: 0.7322\n",
      "Epoch 4/150\n",
      "804/804 [==============================] - 1s 787us/step - loss: 0.5461 - accuracy: 0.7339\n",
      "Epoch 5/150\n",
      "804/804 [==============================] - 1s 792us/step - loss: 0.5453 - accuracy: 0.7338\n",
      "Epoch 6/150\n",
      "804/804 [==============================] - 1s 784us/step - loss: 0.5442 - accuracy: 0.7343\n",
      "Epoch 7/150\n",
      "804/804 [==============================] - 1s 822us/step - loss: 0.5431 - accuracy: 0.7347\n",
      "Epoch 8/150\n",
      "804/804 [==============================] - 1s 794us/step - loss: 0.5426 - accuracy: 0.7362\n",
      "Epoch 9/150\n",
      "804/804 [==============================] - 1s 843us/step - loss: 0.5423 - accuracy: 0.7353\n",
      "Epoch 10/150\n",
      "804/804 [==============================] - 1s 849us/step - loss: 0.5410 - accuracy: 0.7369\n",
      "Epoch 11/150\n",
      "804/804 [==============================] - 1s 825us/step - loss: 0.5410 - accuracy: 0.7367\n",
      "Epoch 12/150\n",
      "804/804 [==============================] - 1s 815us/step - loss: 0.5402 - accuracy: 0.7372\n",
      "Epoch 13/150\n",
      "804/804 [==============================] - 1s 837us/step - loss: 0.5392 - accuracy: 0.7380\n",
      "Epoch 14/150\n",
      "804/804 [==============================] - 1s 806us/step - loss: 0.5397 - accuracy: 0.7378\n",
      "Epoch 15/150\n",
      "804/804 [==============================] - 1s 811us/step - loss: 0.5390 - accuracy: 0.7378\n",
      "Epoch 16/150\n",
      "804/804 [==============================] - 1s 840us/step - loss: 0.5389 - accuracy: 0.7385\n",
      "Epoch 17/150\n",
      "804/804 [==============================] - 1s 895us/step - loss: 0.5385 - accuracy: 0.7380\n",
      "Epoch 18/150\n",
      "804/804 [==============================] - 1s 796us/step - loss: 0.5383 - accuracy: 0.7375\n",
      "Epoch 19/150\n",
      "804/804 [==============================] - 1s 884us/step - loss: 0.5380 - accuracy: 0.7379\n",
      "Epoch 20/150\n",
      "804/804 [==============================] - 1s 795us/step - loss: 0.5372 - accuracy: 0.7384\n",
      "Epoch 21/150\n",
      "804/804 [==============================] - 1s 846us/step - loss: 0.5373 - accuracy: 0.7390\n",
      "Epoch 22/150\n",
      "804/804 [==============================] - 1s 797us/step - loss: 0.5369 - accuracy: 0.7377\n",
      "Epoch 23/150\n",
      "804/804 [==============================] - 1s 839us/step - loss: 0.5370 - accuracy: 0.7380\n",
      "Epoch 24/150\n",
      "804/804 [==============================] - 1s 802us/step - loss: 0.5363 - accuracy: 0.7397\n",
      "Epoch 25/150\n",
      "804/804 [==============================] - 1s 798us/step - loss: 0.5360 - accuracy: 0.7393\n",
      "Epoch 26/150\n",
      "804/804 [==============================] - 1s 956us/step - loss: 0.5355 - accuracy: 0.7387\n",
      "Epoch 27/150\n",
      "804/804 [==============================] - 1s 926us/step - loss: 0.5352 - accuracy: 0.7397\n",
      "Epoch 28/150\n",
      "804/804 [==============================] - 1s 824us/step - loss: 0.5354 - accuracy: 0.7388\n",
      "Epoch 29/150\n",
      "804/804 [==============================] - 1s 861us/step - loss: 0.5350 - accuracy: 0.7395\n",
      "Epoch 30/150\n",
      "804/804 [==============================] - 1s 1ms/step - loss: 0.5350 - accuracy: 0.7394\n",
      "Epoch 31/150\n",
      "804/804 [==============================] - 1s 793us/step - loss: 0.5348 - accuracy: 0.7399\n",
      "Epoch 32/150\n",
      "804/804 [==============================] - 1s 846us/step - loss: 0.5345 - accuracy: 0.7393\n",
      "Epoch 33/150\n",
      "804/804 [==============================] - 1s 903us/step - loss: 0.5346 - accuracy: 0.7392\n",
      "Epoch 34/150\n",
      "804/804 [==============================] - 1s 794us/step - loss: 0.5340 - accuracy: 0.7398\n",
      "Epoch 35/150\n",
      "804/804 [==============================] - 1s 990us/step - loss: 0.5346 - accuracy: 0.7399\n",
      "Epoch 36/150\n",
      "804/804 [==============================] - 1s 840us/step - loss: 0.5340 - accuracy: 0.7405\n",
      "Epoch 37/150\n",
      "804/804 [==============================] - 1s 851us/step - loss: 0.5335 - accuracy: 0.7404\n",
      "Epoch 38/150\n",
      "804/804 [==============================] - 1s 788us/step - loss: 0.5338 - accuracy: 0.7396\n",
      "Epoch 39/150\n",
      "804/804 [==============================] - 1s 882us/step - loss: 0.5335 - accuracy: 0.7400\n",
      "Epoch 40/150\n",
      "804/804 [==============================] - 1s 789us/step - loss: 0.5338 - accuracy: 0.7407\n",
      "Epoch 41/150\n",
      "804/804 [==============================] - 1s 847us/step - loss: 0.5331 - accuracy: 0.7400\n",
      "Epoch 42/150\n",
      "804/804 [==============================] - 1s 800us/step - loss: 0.5330 - accuracy: 0.7414\n",
      "Epoch 43/150\n",
      "804/804 [==============================] - 1s 807us/step - loss: 0.5328 - accuracy: 0.7422\n",
      "Epoch 44/150\n",
      "804/804 [==============================] - 1s 869us/step - loss: 0.5326 - accuracy: 0.7399\n",
      "Epoch 45/150\n",
      "804/804 [==============================] - 1s 815us/step - loss: 0.5325 - accuracy: 0.7408\n",
      "Epoch 46/150\n",
      "804/804 [==============================] - 1s 799us/step - loss: 0.5326 - accuracy: 0.7401\n",
      "Epoch 47/150\n",
      "804/804 [==============================] - 1s 846us/step - loss: 0.5317 - accuracy: 0.7407\n",
      "Epoch 48/150\n",
      "804/804 [==============================] - 1s 792us/step - loss: 0.5320 - accuracy: 0.7411\n",
      "Epoch 49/150\n",
      "804/804 [==============================] - 1s 807us/step - loss: 0.5320 - accuracy: 0.7410\n",
      "Epoch 50/150\n",
      "804/804 [==============================] - 1s 887us/step - loss: 0.5318 - accuracy: 0.7414\n",
      "Epoch 51/150\n",
      "804/804 [==============================] - 1s 813us/step - loss: 0.5314 - accuracy: 0.7415\n",
      "Epoch 52/150\n",
      "804/804 [==============================] - 1s 791us/step - loss: 0.5315 - accuracy: 0.7406\n",
      "Epoch 53/150\n",
      "804/804 [==============================] - 1s 852us/step - loss: 0.5315 - accuracy: 0.74210s - loss: 0.5290 - \n",
      "Epoch 54/150\n",
      "804/804 [==============================] - 1s 807us/step - loss: 0.5310 - accuracy: 0.7402\n",
      "Epoch 55/150\n",
      "804/804 [==============================] - 1s 800us/step - loss: 0.5313 - accuracy: 0.7413\n",
      "Epoch 56/150\n",
      "804/804 [==============================] - 1s 769us/step - loss: 0.5310 - accuracy: 0.7422\n",
      "Epoch 57/150\n",
      "804/804 [==============================] - 1s 804us/step - loss: 0.5315 - accuracy: 0.7411\n",
      "Epoch 58/150\n",
      "804/804 [==============================] - 1s 857us/step - loss: 0.5313 - accuracy: 0.74080s - loss: 0.5313 - accuracy\n",
      "Epoch 59/150\n",
      "804/804 [==============================] - 1s 832us/step - loss: 0.5308 - accuracy: 0.7421\n",
      "Epoch 60/150\n",
      "804/804 [==============================] - 1s 785us/step - loss: 0.5309 - accuracy: 0.7418\n",
      "Epoch 61/150\n",
      "804/804 [==============================] - 1s 839us/step - loss: 0.5301 - accuracy: 0.7425\n",
      "Epoch 62/150\n",
      "804/804 [==============================] - 1s 793us/step - loss: 0.5306 - accuracy: 0.7418\n",
      "Epoch 63/150\n",
      "804/804 [==============================] - 1s 777us/step - loss: 0.5303 - accuracy: 0.7423\n",
      "Epoch 64/150\n",
      "804/804 [==============================] - 1s 823us/step - loss: 0.5302 - accuracy: 0.7423\n",
      "Epoch 65/150\n",
      "804/804 [==============================] - 1s 778us/step - loss: 0.5301 - accuracy: 0.7416\n",
      "Epoch 66/150\n",
      "804/804 [==============================] - 1s 788us/step - loss: 0.5305 - accuracy: 0.7421\n",
      "Epoch 67/150\n",
      "804/804 [==============================] - 1s 778us/step - loss: 0.5299 - accuracy: 0.7416\n",
      "Epoch 68/150\n",
      "804/804 [==============================] - 1s 808us/step - loss: 0.5301 - accuracy: 0.7422\n",
      "Epoch 69/150\n",
      "804/804 [==============================] - 1s 782us/step - loss: 0.5295 - accuracy: 0.7420\n",
      "Epoch 70/150\n",
      "804/804 [==============================] - 1s 809us/step - loss: 0.5299 - accuracy: 0.7411\n",
      "Epoch 71/150\n",
      "804/804 [==============================] - 1s 806us/step - loss: 0.5300 - accuracy: 0.7408\n",
      "Epoch 72/150\n",
      "804/804 [==============================] - 1s 828us/step - loss: 0.5297 - accuracy: 0.7420\n",
      "Epoch 73/150\n",
      "804/804 [==============================] - 1s 783us/step - loss: 0.5297 - accuracy: 0.7420\n",
      "Epoch 74/150\n",
      "804/804 [==============================] - 1s 797us/step - loss: 0.5298 - accuracy: 0.7423\n",
      "Epoch 75/150\n",
      "804/804 [==============================] - 1s 861us/step - loss: 0.5292 - accuracy: 0.7420\n",
      "Epoch 76/150\n",
      "804/804 [==============================] - 1s 843us/step - loss: 0.5292 - accuracy: 0.7419\n",
      "Epoch 77/150\n",
      "804/804 [==============================] - 1s 851us/step - loss: 0.5291 - accuracy: 0.7427\n",
      "Epoch 78/150\n",
      "804/804 [==============================] - 1s 785us/step - loss: 0.5294 - accuracy: 0.7425\n",
      "Epoch 79/150\n",
      "804/804 [==============================] - 1s 801us/step - loss: 0.5290 - accuracy: 0.7418\n",
      "Epoch 80/150\n",
      "804/804 [==============================] - 1s 773us/step - loss: 0.5289 - accuracy: 0.7413\n",
      "Epoch 81/150\n",
      "804/804 [==============================] - 1s 786us/step - loss: 0.5291 - accuracy: 0.7423\n",
      "Epoch 82/150\n",
      "804/804 [==============================] - 1s 775us/step - loss: 0.5290 - accuracy: 0.7430\n",
      "Epoch 83/150\n",
      "804/804 [==============================] - 1s 764us/step - loss: 0.5292 - accuracy: 0.7424\n",
      "Epoch 84/150\n",
      "804/804 [==============================] - 1s 786us/step - loss: 0.5288 - accuracy: 0.7420\n",
      "Epoch 85/150\n",
      "804/804 [==============================] - 1s 905us/step - loss: 0.5288 - accuracy: 0.74250s - loss: 0.5299 - ac\n",
      "Epoch 86/150\n",
      "804/804 [==============================] - 1s 841us/step - loss: 0.5291 - accuracy: 0.7416\n",
      "Epoch 87/150\n",
      "804/804 [==============================] - 1s 767us/step - loss: 0.5288 - accuracy: 0.7423\n",
      "Epoch 88/150\n",
      "804/804 [==============================] - 1s 780us/step - loss: 0.5286 - accuracy: 0.7422\n",
      "Epoch 89/150\n",
      "804/804 [==============================] - 1s 766us/step - loss: 0.5286 - accuracy: 0.7424\n",
      "Epoch 90/150\n",
      "804/804 [==============================] - 1s 813us/step - loss: 0.5285 - accuracy: 0.7423\n",
      "Epoch 91/150\n",
      "804/804 [==============================] - 1s 779us/step - loss: 0.5282 - accuracy: 0.7428\n",
      "Epoch 92/150\n",
      "804/804 [==============================] - 1s 793us/step - loss: 0.5287 - accuracy: 0.7423\n",
      "Epoch 93/150\n",
      "804/804 [==============================] - 1s 789us/step - loss: 0.5286 - accuracy: 0.7437\n",
      "Epoch 94/150\n",
      "804/804 [==============================] - 1s 765us/step - loss: 0.5285 - accuracy: 0.7417\n",
      "Epoch 95/150\n",
      "804/804 [==============================] - 1s 775us/step - loss: 0.5283 - accuracy: 0.7423\n",
      "Epoch 96/150\n",
      "804/804 [==============================] - 1s 771us/step - loss: 0.5283 - accuracy: 0.7431\n",
      "Epoch 97/150\n",
      "804/804 [==============================] - 1s 780us/step - loss: 0.5281 - accuracy: 0.7428\n",
      "Epoch 98/150\n",
      "804/804 [==============================] - 1s 765us/step - loss: 0.5279 - accuracy: 0.7421\n",
      "Epoch 99/150\n",
      "804/804 [==============================] - 1s 803us/step - loss: 0.5280 - accuracy: 0.7424\n",
      "Epoch 100/150\n",
      "804/804 [==============================] - 1s 794us/step - loss: 0.5282 - accuracy: 0.7420\n",
      "Epoch 101/150\n",
      "804/804 [==============================] - 1s 827us/step - loss: 0.5284 - accuracy: 0.7424\n",
      "Epoch 102/150\n",
      "804/804 [==============================] - 1s 826us/step - loss: 0.5278 - accuracy: 0.7432\n",
      "Epoch 103/150\n",
      "804/804 [==============================] - 1s 783us/step - loss: 0.5277 - accuracy: 0.7424\n",
      "Epoch 104/150\n",
      "804/804 [==============================] - 1s 774us/step - loss: 0.5278 - accuracy: 0.7430\n",
      "Epoch 105/150\n",
      "804/804 [==============================] - 1s 785us/step - loss: 0.5278 - accuracy: 0.7427\n",
      "Epoch 106/150\n",
      "804/804 [==============================] - 1s 768us/step - loss: 0.5277 - accuracy: 0.7425\n",
      "Epoch 107/150\n",
      "804/804 [==============================] - 1s 815us/step - loss: 0.5277 - accuracy: 0.7425\n",
      "Epoch 108/150\n",
      "804/804 [==============================] - 1s 832us/step - loss: 0.5277 - accuracy: 0.7432\n",
      "Epoch 109/150\n",
      "804/804 [==============================] - 1s 924us/step - loss: 0.5271 - accuracy: 0.7431\n",
      "Epoch 110/150\n",
      "804/804 [==============================] - 1s 1ms/step - loss: 0.5275 - accuracy: 0.7428\n",
      "Epoch 111/150\n",
      "804/804 [==============================] - 1s 1ms/step - loss: 0.5273 - accuracy: 0.7430\n",
      "Epoch 112/150\n",
      "804/804 [==============================] - 1s 1ms/step - loss: 0.5273 - accuracy: 0.7429\n",
      "Epoch 113/150\n",
      "804/804 [==============================] - 1s 824us/step - loss: 0.5276 - accuracy: 0.7429\n",
      "Epoch 114/150\n",
      "804/804 [==============================] - 1s 764us/step - loss: 0.5274 - accuracy: 0.7434\n",
      "Epoch 115/150\n",
      "804/804 [==============================] - 1s 838us/step - loss: 0.5271 - accuracy: 0.7425\n",
      "Epoch 116/150\n",
      "804/804 [==============================] - 1s 769us/step - loss: 0.5277 - accuracy: 0.7427\n",
      "Epoch 117/150\n",
      "804/804 [==============================] - 1s 1ms/step - loss: 0.5271 - accuracy: 0.7428\n",
      "Epoch 118/150\n",
      "804/804 [==============================] - 1s 780us/step - loss: 0.5269 - accuracy: 0.7427\n",
      "Epoch 119/150\n",
      "804/804 [==============================] - 1s 771us/step - loss: 0.5268 - accuracy: 0.7434\n",
      "Epoch 120/150\n",
      "804/804 [==============================] - 1s 775us/step - loss: 0.5268 - accuracy: 0.7427\n",
      "Epoch 121/150\n",
      "804/804 [==============================] - 1s 769us/step - loss: 0.5267 - accuracy: 0.7428\n",
      "Epoch 122/150\n",
      "804/804 [==============================] - 1s 874us/step - loss: 0.5269 - accuracy: 0.7437\n",
      "Epoch 123/150\n",
      "804/804 [==============================] - 1s 869us/step - loss: 0.5273 - accuracy: 0.7429\n",
      "Epoch 124/150\n",
      "804/804 [==============================] - 1s 805us/step - loss: 0.5269 - accuracy: 0.7436\n",
      "Epoch 125/150\n",
      "804/804 [==============================] - 1s 845us/step - loss: 0.5267 - accuracy: 0.7435\n",
      "Epoch 126/150\n",
      "804/804 [==============================] - 1s 766us/step - loss: 0.5270 - accuracy: 0.7438\n",
      "Epoch 127/150\n",
      "804/804 [==============================] - 1s 771us/step - loss: 0.5267 - accuracy: 0.7427\n",
      "Epoch 128/150\n",
      "804/804 [==============================] - 1s 842us/step - loss: 0.5264 - accuracy: 0.7434\n",
      "Epoch 129/150\n",
      "804/804 [==============================] - 1s 791us/step - loss: 0.5268 - accuracy: 0.7418\n",
      "Epoch 130/150\n",
      "804/804 [==============================] - 1s 773us/step - loss: 0.5268 - accuracy: 0.7427\n",
      "Epoch 131/150\n",
      "804/804 [==============================] - 1s 779us/step - loss: 0.5264 - accuracy: 0.7433\n",
      "Epoch 132/150\n",
      "804/804 [==============================] - 1s 775us/step - loss: 0.5268 - accuracy: 0.7430\n",
      "Epoch 133/150\n",
      "804/804 [==============================] - 1s 762us/step - loss: 0.5268 - accuracy: 0.7434\n",
      "Epoch 134/150\n",
      "804/804 [==============================] - 1s 788us/step - loss: 0.5261 - accuracy: 0.7450\n",
      "Epoch 135/150\n",
      "804/804 [==============================] - 1s 775us/step - loss: 0.5262 - accuracy: 0.7437\n",
      "Epoch 136/150\n",
      "804/804 [==============================] - 1s 771us/step - loss: 0.5266 - accuracy: 0.7425\n",
      "Epoch 137/150\n",
      "804/804 [==============================] - 1s 813us/step - loss: 0.5271 - accuracy: 0.7429\n",
      "Epoch 138/150\n",
      "804/804 [==============================] - 1s 867us/step - loss: 0.5265 - accuracy: 0.7435\n",
      "Epoch 139/150\n",
      "804/804 [==============================] - 1s 780us/step - loss: 0.5259 - accuracy: 0.7434\n",
      "Epoch 140/150\n",
      "804/804 [==============================] - 1s 767us/step - loss: 0.5259 - accuracy: 0.7434\n",
      "Epoch 141/150\n",
      "804/804 [==============================] - 1s 791us/step - loss: 0.5265 - accuracy: 0.7428\n",
      "Epoch 142/150\n",
      "804/804 [==============================] - 1s 823us/step - loss: 0.5263 - accuracy: 0.7434\n",
      "Epoch 143/150\n",
      "804/804 [==============================] - 1s 761us/step - loss: 0.5261 - accuracy: 0.7431\n",
      "Epoch 144/150\n",
      "804/804 [==============================] - 1s 796us/step - loss: 0.5264 - accuracy: 0.7441\n",
      "Epoch 145/150\n",
      "804/804 [==============================] - 1s 777us/step - loss: 0.5257 - accuracy: 0.7437\n",
      "Epoch 146/150\n",
      "804/804 [==============================] - 1s 763us/step - loss: 0.5261 - accuracy: 0.7429\n",
      "Epoch 147/150\n",
      "804/804 [==============================] - 1s 792us/step - loss: 0.5263 - accuracy: 0.7429\n",
      "Epoch 148/150\n",
      "804/804 [==============================] - 1s 788us/step - loss: 0.5254 - accuracy: 0.7435\n",
      "Epoch 149/150\n",
      "804/804 [==============================] - 1s 784us/step - loss: 0.5259 - accuracy: 0.7433\n",
      "Epoch 150/150\n",
      "804/804 [==============================] - 1s 810us/step - loss: 0.5257 - accuracy: 0.7431\n"
     ]
    }
   ],
   "source": [
    "# Fit the model\n",
    "model_A2 = nn_A2.fit(X_train_scaled, y_train, epochs=150)"
   ]
  },
  {
   "cell_type": "markdown",
   "metadata": {},
   "source": [
    "### Step 2: After finishing your models, display the accuracy scores achieved by each model, and compare the results."
   ]
  },
  {
   "cell_type": "code",
   "execution_count": 43,
   "metadata": {},
   "outputs": [
    {
     "name": "stdout",
     "output_type": "stream",
     "text": [
      "Original Model Results\n",
      "268/268 - 0s - loss: 1.2393 - accuracy: 0.6968 - 154ms/epoch - 574us/step\n",
      "Loss: 1.2392685413360596, Accuracy: 0.6967930197715759\n"
     ]
    }
   ],
   "source": [
    "# Orginal model used two hidden layers and 50 epochs\n",
    "print(\"Original Model Results\")\n",
    "\n",
    "# Evaluate the model loss and accuracy metrics using the evaluate method and the test data\n",
    "model_loss, model_accuracy = nn.evaluate(X_test_scaled, y_test, verbose=2)\n",
    "\n",
    "# Display the model loss and accuracy results\n",
    "print(f\"Loss: {model_loss}, Accuracy: {model_accuracy}\")"
   ]
  },
  {
   "cell_type": "code",
   "execution_count": 44,
   "metadata": {},
   "outputs": [
    {
     "data": {
      "text/plain": [
       "<AxesSubplot:>"
      ]
     },
     "execution_count": 44,
     "metadata": {},
     "output_type": "execute_result"
    },
    {
     "data": {
      "image/png": "[encoded data removed]",
      "text/plain": [
       "<Figure size 432x288 with 1 Axes>"
      ]
     },
     "metadata": {
      "needs_background": "light"
     },
     "output_type": "display_data"
    },
    {
     "data": {
      "image/png": "[encoded data removed]",
      "text/plain": [
       "<Figure size 432x288 with 1 Axes>"
      ]
     },
     "metadata": {
      "needs_background": "light"
     },
     "output_type": "display_data"
    }
   ],
   "source": [
    "# Plotting the data to see if more epochs can help my model predict with less loss and more accuracy\n",
    "nn_plot = pd.DataFrame(model.history, index=range(1, len(model.history[\"loss\"]) + 1))\n",
    "nn_plot.plot(y=\"loss\")\n",
    "nn_plot.plot(y=\"accuracy\")"
   ]
  },
  {
   "cell_type": "code",
   "execution_count": 45,
   "metadata": {},
   "outputs": [
    {
     "name": "stdout",
     "output_type": "stream",
     "text": [
      "Alternative Model 1 Results\n",
      "268/268 - 0s - loss: 0.5734 - accuracy: 0.7304 - 204ms/epoch - 762us/step\n",
      "Loss: 0.5733559727668762, Accuracy: 0.7303789854049683\n"
     ]
    }
   ],
   "source": [
    "# The second model used one hidden layer and 100 epochs\n",
    "print(\"Alternative Model 1 Results\")\n",
    "\n",
    "# Evaluate the model loss and accuracy metrics using the evaluate method and the test data\n",
    "model_loss, model_accuracy = nn_A1.evaluate(X_test_scaled, y_test, verbose=2)\n",
    "\n",
    "# Display the model loss and accuracy results\n",
    "print(f\"Loss: {model_loss}, Accuracy: {model_accuracy}\")"
   ]
  },
  {
   "cell_type": "code",
   "execution_count": 46,
   "metadata": {},
   "outputs": [
    {
     "data": {
      "text/plain": [
       "<AxesSubplot:>"
      ]
     },
     "execution_count": 46,
     "metadata": {},
     "output_type": "execute_result"
    },
    {
     "data": {
      "image/png": "[encoded data removed]",
      "text/plain": [
       "<Figure size 432x288 with 1 Axes>"
      ]
     },
     "metadata": {
      "needs_background": "light"
     },
     "output_type": "display_data"
    },
    {
     "data": {
      "image/png": "[encoded data removed]",
      "text/plain": [
       "<Figure size 432x288 with 1 Axes>"
      ]
     },
     "metadata": {
      "needs_background": "light"
     },
     "output_type": "display_data"
    }
   ],
   "source": [
    "# Plotting the data to see if more epochs can help my model predict with less loss and more accuracy\n",
    "nn_A1_plot = pd.DataFrame(model_A1.history, index=range(1, len(model_A1.history[\"loss\"]) + 1))\n",
    "nn_A1_plot.plot(y=\"loss\")\n",
    "nn_A1_plot.plot(y=\"accuracy\")"
   ]
  },
  {
   "cell_type": "code",
   "execution_count": 47,
   "metadata": {},
   "outputs": [
    {
     "name": "stdout",
     "output_type": "stream",
     "text": [
      "Alternative Model 2 Results\n",
      "268/268 - 0s - loss: 0.5780 - accuracy: 0.7287 - 216ms/epoch - 807us/step\n",
      "Loss: 0.577954888343811, Accuracy: 0.7287463545799255\n"
     ]
    }
   ],
   "source": [
    "# The third model used three hidden layers and 150 epochs\n",
    "print(\"Alternative Model 2 Results\")\n",
    "\n",
    "# Evaluate the model loss and accuracy metrics using the evaluate method and the test data\n",
    "model_loss, model_accuracy = nn_A2.evaluate(X_test_scaled, y_test, verbose=2)\n",
    "\n",
    "# Display the model loss and accuracy results\n",
    "print(f\"Loss: {model_loss}, Accuracy: {model_accuracy}\")"
   ]
  },
  {
   "cell_type": "code",
   "execution_count": 48,
   "metadata": {},
   "outputs": [
    {
     "data": {
      "text/plain": [
       "<AxesSubplot:>"
      ]
     },
     "execution_count": 48,
     "metadata": {},
     "output_type": "execute_result"
    },
    {
     "data": {
      "image/png": "[encoded data removed]",
      "text/plain": [
       "<Figure size 432x288 with 1 Axes>"
      ]
     },
     "metadata": {
      "needs_background": "light"
     },
     "output_type": "display_data"
    },
    {
     "data": {
      "image/png": "[encoded data removed]",
      "text/plain": [
       "<Figure size 432x288 with 1 Axes>"
      ]
     },
     "metadata": {
      "needs_background": "light"
     },
     "output_type": "display_data"
    }
   ],
   "source": [
    "# Plotting the data to see if more epochs can help my model predict with less loss and more accuracy\n",
    "nn_A2_plot = pd.DataFrame(model_A2.history, index=range(1, len(model_A2.history[\"loss\"]) + 1))\n",
    "nn_A2_plot.plot(y=\"loss\")\n",
    "nn_A2_plot.plot(y=\"accuracy\")"
   ]
  },
  {
   "cell_type": "markdown",
   "metadata": {},
   "source": [
    "### Step 3: Save each of your alternative models as an HDF5 file.\n"
   ]
  },
  {
   "cell_type": "code",
   "execution_count": 49,
   "metadata": {},
   "outputs": [],
   "source": [
    "# Set the file path for the first alternative model\n",
    "file_path1 = Path(\"./AlphabetSoup1.h5\")\n",
    "\n",
    "# Export your model to a HDF5 file\n",
    "nn_A1.save(file_path)\n"
   ]
  },
  {
   "cell_type": "code",
   "execution_count": 50,
   "metadata": {},
   "outputs": [],
   "source": [
    "# Set the file path for the second alternative model\n",
    "file_path2 = Path(\"./AlphabetSoup2.h5\")\n",
    "\n",
    "# Export your model to a HDF5 file\n",
    "nn_A2.save(file_path)"
   ]
  },
  {
   "cell_type": "code",
   "execution_count": null,
   "metadata": {},
   "outputs": [],
   "source": []
  }
 ],
 "metadata": {
  "kernelspec": {
   "display_name": "Python 3",
   "language": "python",
   "name": "python3"
  },
  "language_info": {
   "codemirror_mode": {
    "name": "ipython",
    "version": 3
   },
   "file_extension": ".py",
   "mimetype": "text/x-python",
   "name": "python",
   "nbconvert_exporter": "python",
   "pygments_lexer": "ipython3",
   "version": "3.7.10"
  }
 },
 "nbformat": 4,
 "nbformat_minor": 4
}
